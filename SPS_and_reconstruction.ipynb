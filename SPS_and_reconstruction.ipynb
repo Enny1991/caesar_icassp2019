{
 "cells": [
  {
   "cell_type": "code",
   "execution_count": 1,
   "metadata": {},
   "outputs": [
    {
     "name": "stderr",
     "output_type": "stream",
     "text": [
      "/home/enea/anaconda2/lib/python2.7/site-packages/h5py/__init__.py:36: FutureWarning: Conversion of the second argument of issubdtype from `float` to `np.floating` is deprecated. In future, it will be treated as `np.float64 == np.dtype(float).type`.\n",
      "  from ._conv import register_converters as _register_converters\n",
      "Using TensorFlow backend.\n"
     ]
    }
   ],
   "source": [
    "import numpy as np\n",
    "from utils import es_utils as es\n",
    "from utils import itd_utils as itd\n",
    "from utils import prob_utils as prob\n",
    "\n",
    "import pickle as pkl\n",
    "\n",
    "import matplotlib.pyplot as plt\n",
    "%matplotlib inline\n",
    "\n",
    "from python_speech_features import logfbank\n",
    "\n",
    "from scipy.io import wavfile\n",
    "import re\n",
    "from scipy import stats\n",
    "from sklearn.mixture import GaussianMixture\n",
    "from scipy.stats import norm\n",
    "import gammamix\n",
    "\n",
    "from collections import OrderedDict\n",
    "import itertools\n",
    "from scipy.ndimage.filters import gaussian_filter\n",
    "from tqdm import tqdm\n",
    "\n",
    "from sklearn.linear_model import LinearRegression\n",
    "from sklearn.neural_network import MLPRegressor\n",
    "\n",
    "import os\n",
    "import tables\n",
    "\n",
    "import keras\n",
    "import keras.backend as K\n"
   ]
  },
  {
   "cell_type": "markdown",
   "metadata": {},
   "source": [
    "# Some routines"
   ]
  },
  {
   "cell_type": "code",
   "execution_count": 6,
   "metadata": {
    "collapsed": true
   },
   "outputs": [],
   "source": [
    "def remove_trigger(timestamps, addresses):\n",
    "    dx = 0.000001\n",
    "    idx =  np.argmax(np.diff(timestamps)/dx)\n",
    "    return timestamps[idx + 1:], addresses[idx + 1:]\n",
    "\n",
    "def wind_sp(ts, ch, w=0.001):\n",
    "    ts_int = (ts // w).astype('int32')\n",
    "    if len(ts_int) < 1:\n",
    "        ts_int = np.array([0,0])\n",
    "\n",
    "    A = np.zeros((np.max(ts_int) + 3000, 64))\n",
    "    A += np.abs(np.random.randn(A.shape[0], A.shape[1]))\n",
    "\n",
    "    for _t, _c in zip(ts_int, ch):\n",
    "        A[_t, _c] += 100\n",
    "    \n",
    "#     A = np.minimum(A, np.ones_like(A))\n",
    "    # returning [ch, T]\n",
    "    return A.T\n",
    "\n",
    "def exp_feat(A, win=0.05, tpe='lap', l=300):\n",
    "    if tpe == 'exp':\n",
    "        t = np.arange(0, win, 0.001)\n",
    "        b = np.exp(-l * t)\n",
    "    elif tpe == 'lap':\n",
    "        t = np.arange(-win, win, 0.001)\n",
    "        b = np.exp(-l * np.abs(t))\n",
    "        \n",
    "    b /= np.linalg.norm(b)\n",
    "    AA = np.array([np.convolve(_a, b, 'same') for _a in A])\n",
    "    return AA\n",
    "\n",
    "def smear_fr(A, win=3, l=10):\n",
    "#     t = np.arange(-win, win, 1)\n",
    "#     b = np.exp(-l * np.abs(t))\n",
    "#     b = np.concatenate([np.arange(win), np.arange(win)[::-1]])\n",
    "#     A = np.array([np.convolve(_a, b, 'same') for _a in A.T])\n",
    "    A = gaussian_filter(A, 1)\n",
    "    return A\n",
    "\n",
    "def simple_low_pass(X, win=60, shift=40):\n",
    "    n_win = (X.shape[0] - win) // shift\n",
    "    XX = np.zeros((n_win, X.shape[1]))\n",
    "    for i in range(0, n_win):\n",
    "        XX[i] = np.sum(X[i * shift: (i + 1) * shift] , 0) / win\n",
    "    return XX\n",
    "\n",
    "def spike_features(T1, C1):\n",
    "    A = wind_sp(np.array(T1), np.array(C1).astype('int32'))\n",
    "    AA = exp_feat(A, win=0.05, l=30, tpe='lap')\n",
    "    AAA = smear_fr(AA, win=3)\n",
    "    AAAA = simple_low_pass(AAA.T).T\n",
    "    \n",
    "    return np.log10(AAAA + 1e-9)\n",
    "\n",
    "def get_ctx_win(X, ctx=5, shift=1):\n",
    "    n_win = (X.shape[1] - ctx * 2) // shift\n",
    "    X_re = np.array([X[:, i - ctx:i + ctx + 1].reshape(-1,) for i in range(ctx, n_win * shift, shift)])\n",
    "    return X_re\n",
    "\n",
    "def find_local_maxima(x, win=5):\n",
    "    to_pad = win // 2\n",
    "    x = np.pad(x, (to_pad,to_pad), 'constant', constant_values=(0, 0))\n",
    "    idx = []\n",
    "    for i in range(to_pad, len(x) - to_pad):\n",
    "        if np.argmax(x[i - to_pad: i + to_pad]) == to_pad:\n",
    "            idx.append(i - to_pad)\n",
    "    return np.array(idx)\n",
    "def correct_pos(pos):\n",
    "    if pos == 0:\n",
    "        pos = 1\n",
    "    if pos == 18:\n",
    "        pos = 17\n",
    "    return pos"
   ]
  },
  {
   "cell_type": "markdown",
   "metadata": {},
   "source": [
    "# SPS"
   ]
  },
  {
   "cell_type": "code",
   "execution_count": 3,
   "metadata": {
    "collapsed": true
   },
   "outputs": [],
   "source": [
    "def sps(filename, sigma=20, priors='priors_long_hv_corrected_all.npy', correction_dict='correction_dict.pkl', channels=np.arange(64)):\n",
    "    \n",
    "    # load priors\n",
    "    priors = np.load(priors)\n",
    "    dict_c = pkl.load(open(correction_dict, 'r'))\n",
    "    itd_dict = itd.get_itd_dict(max_itd, num_bins)*1e6\n",
    "    \n",
    "    # load / trigger / decode\n",
    "    timestamps, addresses = es.loadaerdat(filename)\n",
    "    timestamps, addresses = remove_trigger(timestamps, addresses)\n",
    "    timestamps, channel_id, ear_id, neuron_id, filterbank_id = es.decode_ams1c(timestamps, addresses, return_type=False)\n",
    "\n",
    "    # load wavs\n",
    "    spk1, spk2, _ = re.compile('[0-9]+').split(all_train[IDX])\n",
    "    _, utt1, utt2 = re.compile('[A-Z]+').split(all_train[IDX])\n",
    "    pos1, pos2 = int(float(all_angles[IDX].split(' ')[1]) // 10) , int(float(all_angles[IDX].split(' ')[2]) // 10)\n",
    "\n",
    "    fs, w1 = wavfile.read(basedir + 'wavs/train/' + gts1[IDX].replace('\\\\', '/') + '.wav')\n",
    "    fs, w2 = wavfile.read(basedir + 'wavs/train/' + gts2[IDX].replace('\\\\', '/') + '.wav')\n",
    "    \n",
    "    # get itd and fix them\n",
    "    _aa = {}\n",
    "    idx_dict = {}\n",
    "    for kk in channels:\n",
    "        indices_channels = np.isin(channel_id, np.array([kk]))\n",
    "        if kk in dict_c:\n",
    "            try:\n",
    "                _itds, _itd_idx = itd.get_itds(timestamps[indices_channels], ear_id[indices_channels], neuron_id[indices_channels], save_to_file=None,\n",
    "                                     verbose=False, max_itd=max_itd)\n",
    "                idx_dict[kk] = _itd_idx\n",
    "                _mu = dict_c[kk]['mu']\n",
    "                _corr = (_itds - _mu)  # / dict_c[kk]['std'] * dict_c[19]['std']\n",
    "                _aa[kk] = _corr\n",
    "            except Exception as e:\n",
    "                pass\n",
    "    \n",
    "    # get probabilities\n",
    "    index_angles = np.vstack([np.arange(19), np.arange(0, 190, 10)]).T\n",
    "\n",
    "    num_angles = len(priors)\n",
    "    initial_estimate = np.ones(num_angles) / num_angles # all angles are a priori equally likely\n",
    "    transition_probabilities = prob.get_transition_probabilities(index_angles, sigma=sigma) # gaussian a priori probability of itds given a certain position\n",
    "    itd_dict = itd.get_itd_dict(max_itd, num_bins) # array holding the mean values of all itd bins\n",
    "    arg = {}\n",
    "    for k, _a in _aa.iteritems():\n",
    "        estimates, argmax_estimates = prob.estimate(_a, initial_estimate, transition_probabilities, itd_dict, priors)\n",
    "        arg[k] = argmax_estimates\n",
    "        \n",
    "    amax = np.array(list(itertools.chain.from_iterable([v for _, v in arg.iteritems()])))\n",
    "    \n",
    "    # get separated spikes\n",
    "    T = []\n",
    "    C = []\n",
    "    for p in [pos1, pos2]:\n",
    "        T1 = []\n",
    "        C1 = []\n",
    "        for ch in idx_dict.keys():\n",
    "#             d = np.where(np.array(idx_dict.keys()) == ch)[0][0]\n",
    "\n",
    "            \n",
    "            t = (timestamps[channel_id == ch])[idx_dict[ch][arg[ch] == p]]\n",
    "            T1.extend(t)\n",
    "            C1.extend(np.ones_like(t) * ch)\n",
    "        T.append(T1)\n",
    "        C.append(C1)\n",
    "    \n",
    "    return T, C, w1, w2, fs, amax\n",
    "    "
   ]
  },
  {
   "cell_type": "markdown",
   "metadata": {},
   "source": [
    "# Some data preparation"
   ]
  },
  {
   "cell_type": "code",
   "execution_count": 4,
   "metadata": {
    "collapsed": true
   },
   "outputs": [],
   "source": [
    "basedir = '/Data/DATASETS/CAESAR_TIDIGITS/'\n",
    "\n",
    "num_bins = 80\n",
    "max_itd = 800e-6\n",
    "num_channels = 64\n",
    "\n",
    "with open(basedir + 'log_train.txt') as t:\n",
    "    all_angles = [x for x in t.readlines()]\n",
    "\n",
    "with open(basedir + 'log_test.txt') as t:\n",
    "    all_angles_test = [x for x in t.readlines()]\n",
    "\n",
    "with open('train_set.txt') as t:\n",
    "    all_train = [line.split(' ')[4].strip() for line in t.readlines()]\n",
    "with open('train_set.txt') as t:\n",
    "    gts1 = [line.split(' ')[0].strip() for line in t.readlines()]\n",
    "with open('train_set.txt') as t:\n",
    "    gts2 = [line.split(' ')[1].strip() for line in t.readlines()]\n",
    "    \n",
    "with open('test_set.txt') as t:\n",
    "    all_test = [line.split(' ')[4].strip() for line in t.readlines()]\n",
    "with open('test_set.txt') as t:\n",
    "    gts1_test = [line.split(' ')[0].strip() for line in t.readlines()]\n",
    "with open('test_set.txt') as t:\n",
    "    gts2_test = [line.split(' ')[1].strip() for line in t.readlines()]"
   ]
  },
  {
   "cell_type": "markdown",
   "metadata": {},
   "source": [
    "# Check priors"
   ]
  },
  {
   "cell_type": "code",
   "execution_count": 5,
   "metadata": {},
   "outputs": [
    {
     "name": "stdout",
     "output_type": "stream",
     "text": [
      "(19, 80)\n"
     ]
    },
    {
     "data": {
      "image/png": "[encoded data removed]",
      "text/plain": [
       "<matplotlib.figure.Figure at 0x7f80fcffaf90>"
      ]
     },
     "metadata": {},
     "output_type": "display_data"
    }
   ],
   "source": [
    "priors = np.load('priors_long_hv_corrected_all.npy')\n",
    "dict_c = pkl.load(open('correction_dict.pkl', 'r'))\n",
    "itd_dict = itd.get_itd_dict(max_itd, num_bins)*1e6\n",
    "_ = plt.plot(priors.T)\n",
    "print priors.shape"
   ]
  },
  {
   "cell_type": "markdown",
   "metadata": {},
   "source": [
    "# Loading example"
   ]
  },
  {
   "cell_type": "code",
   "execution_count": null,
   "metadata": {
    "collapsed": true
   },
   "outputs": [],
   "source": [
    "IDX = 0\n",
    "print all_train[IDX]\n",
    "timestamps, addresses = es.loadaerdat(basedir + 'aedat/train/' + all_train[IDX] + '.aedat')\n",
    "timestamps, addresses = remove_trigger(timestamps, addresses)\n",
    "\n",
    "timestamps, channel_id, ear_id, neuron_id, filterbank_id = es.decode_ams1c(timestamps, addresses, return_type=False)\n",
    "\n",
    "# load wav\n",
    "spk1, spk2, _ = re.compile('[0-9]+').split(all_train[IDX])\n",
    "_, utt1, utt2 = re.compile('[A-Z]+').split(all_train[IDX])\n",
    "pos1, pos2 = int(float(all_angles[IDX].split(' ')[1]) // 10) , int(float(all_angles[IDX].split(' ')[2]) // 10)\n",
    "print pos1\n",
    "print pos2\n",
    "fs, w1 = wavfile.read(basedir + 'wavs/train/' + gts1[IDX].replace('\\\\', '/') + '.wav')\n",
    "fs, w2 = wavfile.read(basedir + 'wavs/train/' + gts2[IDX].replace('\\\\', '/') + '.wav')"
   ]
  },
  {
   "cell_type": "code",
   "execution_count": null,
   "metadata": {
    "collapsed": true
   },
   "outputs": [],
   "source": [
    "# get itd and fix them\n",
    "_aa = []\n",
    "idx_dict = {}\n",
    "for kk in np.arange(0,64):\n",
    "    indices_channels = np.isin(channel_id, np.array([kk]))\n",
    "    if kk in dict_c:\n",
    "        try:\n",
    "            _itds, _itd_idx = itd.get_itds(timestamps[indices_channels], ear_id[indices_channels], neuron_id[indices_channels], save_to_file=None,\n",
    "                                 verbose=False, max_itd=max_itd)\n",
    "            idx_dict[kk] = _itd_idx\n",
    "            _mu = dict_c[kk]['mu']\n",
    "            _corr = (_itds - _mu)  # / dict_c[kk]['std'] * dict_c[19]['std']\n",
    "            _aa.append(_corr)\n",
    "        except Exception as e:\n",
    "            pass"
   ]
  },
  {
   "cell_type": "code",
   "execution_count": null,
   "metadata": {
    "collapsed": true
   },
   "outputs": [],
   "source": [
    "# get probabilities\n",
    "sigma = 20\n",
    "index_angles = np.vstack([np.arange(19), np.arange(0, 190, 10)]).T\n",
    "\n",
    "num_angles = len(priors)\n",
    "initial_estimate = np.ones(num_angles) / num_angles # all angles are a priori equally likely\n",
    "transition_probabilities = prob.get_transition_probabilities(index_angles, sigma=sigma) # gaussian a priori probability of itds given a certain position\n",
    "itd_dict = itd.get_itd_dict(max_itd, num_bins) # array holding the mean values of all itd bins\n",
    "arg = []\n",
    "for _a in _aa:\n",
    "    estimates, argmax_estimates = prob.estimate(_a, initial_estimate, transition_probabilities, itd_dict, priors)\n",
    "    arg.append(argmax_estimates)\n",
    "argmax_estimates = np.array(list(itertools.chain.from_iterable(arg)))"
   ]
  },
  {
   "cell_type": "code",
   "execution_count": null,
   "metadata": {
    "collapsed": true
   },
   "outputs": [],
   "source": [
    "# get separated spikes\n",
    "T = []\n",
    "C = []\n",
    "for p in [pos1, pos2]:\n",
    "    T1 = []\n",
    "    C1 = []\n",
    "    for ch in idx_dict.keys():\n",
    "        d = np.where(np.array(idx_dict.keys()) == ch)[0][0]\n",
    "        t = (timestamps[channel_id == ch])[idx_dict[ch][arg[d] == p]]\n",
    "        T1.extend(t)\n",
    "        C1.extend(np.ones_like(t) * ch)\n",
    "    T.append(T1)\n",
    "    C.append(C1)"
   ]
  },
  {
   "cell_type": "code",
   "execution_count": null,
   "metadata": {},
   "outputs": [],
   "source": [
    "IDX = 2017\n",
    "\n",
    "pos1, pos2 = int(float(all_angles[IDX].split(' ')[1]) // 10) , int(float(all_angles[IDX].split(' ')[2]) // 10)\n",
    "print pos1\n",
    "print pos2\n",
    "ch = np.arange(15,30)\n",
    "T, C, w1, w2, fs, amax = sps(basedir + 'aedat/train/' + all_train[IDX] + '.aedat', sigma=5, channels=ch)\n",
    "\n",
    "\n",
    "\n",
    "spkf1 = spike_features(T[0], C[0])[2:]\n",
    "spkf2 = spike_features(T[1], C[1])[2:]\n",
    "\n",
    "print spkf1.shape\n",
    "w_spk1 = get_ctx_win(spkf1[::-1])\n",
    "w_spk2 = get_ctx_win(spkf2[::-1])\n",
    "\n",
    "# pred1 = lr.predict(w_spk1)\n",
    "# pred2 = lr.predict(w_spk2)\n",
    "\n",
    "# fig = plt.figure(figsize=(5, 5))\n",
    "\n",
    "# for spkf, k, w in zip([spkf1, spkf2], range(2), [w1, w2]):\n",
    "    \n",
    "#     ax = fig.add_subplot(2, 3, k*3 + 1)\n",
    "#     ax.imshow(spkf[:, :200], aspect='auto')\n",
    "    \n",
    "#     ax = fig.add_subplot(2, 3, k*3 + 2)\n",
    "#     Y = logfbank(w, fs, nfft=2048,winlen=0.06,winstep=0.04)\n",
    "#     ax.imshow(Y.T[:, :200], aspect='auto')\n",
    "    \n",
    "#     ax = fig.add_subplot(2, 3, k*3 + 3)\n",
    "#     ax.imshow(pr[:200].T, aspect='auto')"
   ]
  },
  {
   "cell_type": "code",
   "execution_count": 13,
   "metadata": {},
   "outputs": [
    {
     "name": "stderr",
     "output_type": "stream",
     "text": [
      "100%|█████████▉| 5999/6000 [52:03<00:00,  1.57it/s]  "
     ]
    },
    {
     "ename": "IndexError",
     "evalue": "list index out of range",
     "output_type": "error",
     "traceback": [
      "\u001b[0;31m---------------------------------------------------------------------------\u001b[0m",
      "\u001b[0;31mIndexError\u001b[0m                                Traceback (most recent call last)",
      "\u001b[0;32m<ipython-input-13-a0d1b128a250>\u001b[0m in \u001b[0;36m<module>\u001b[0;34m()\u001b[0m\n\u001b[1;32m      2\u001b[0m \u001b[0mcount\u001b[0m \u001b[0;34m=\u001b[0m \u001b[0;36m0.\u001b[0m\u001b[0;34m\u001b[0m\u001b[0m\n\u001b[1;32m      3\u001b[0m \u001b[0;32mfor\u001b[0m \u001b[0mIDX\u001b[0m \u001b[0;32min\u001b[0m \u001b[0mtqdm\u001b[0m\u001b[0;34m(\u001b[0m\u001b[0mrange\u001b[0m\u001b[0;34m(\u001b[0m\u001b[0;36m6000\u001b[0m\u001b[0;34m)\u001b[0m\u001b[0;34m)\u001b[0m\u001b[0;34m:\u001b[0m\u001b[0;34m\u001b[0m\u001b[0m\n\u001b[0;32m----> 4\u001b[0;31m     \u001b[0mpos1\u001b[0m\u001b[0;34m,\u001b[0m \u001b[0mpos2\u001b[0m \u001b[0;34m=\u001b[0m \u001b[0mint\u001b[0m\u001b[0;34m(\u001b[0m\u001b[0mfloat\u001b[0m\u001b[0;34m(\u001b[0m\u001b[0mall_angles\u001b[0m\u001b[0;34m[\u001b[0m\u001b[0mIDX\u001b[0m\u001b[0;34m]\u001b[0m\u001b[0;34m.\u001b[0m\u001b[0msplit\u001b[0m\u001b[0;34m(\u001b[0m\u001b[0;34m' '\u001b[0m\u001b[0;34m)\u001b[0m\u001b[0;34m[\u001b[0m\u001b[0;36m1\u001b[0m\u001b[0;34m]\u001b[0m\u001b[0;34m)\u001b[0m \u001b[0;34m//\u001b[0m \u001b[0;36m10\u001b[0m\u001b[0;34m)\u001b[0m \u001b[0;34m,\u001b[0m \u001b[0mint\u001b[0m\u001b[0;34m(\u001b[0m\u001b[0mfloat\u001b[0m\u001b[0;34m(\u001b[0m\u001b[0mall_angles\u001b[0m\u001b[0;34m[\u001b[0m\u001b[0mIDX\u001b[0m\u001b[0;34m]\u001b[0m\u001b[0;34m.\u001b[0m\u001b[0msplit\u001b[0m\u001b[0;34m(\u001b[0m\u001b[0;34m' '\u001b[0m\u001b[0;34m)\u001b[0m\u001b[0;34m[\u001b[0m\u001b[0;36m2\u001b[0m\u001b[0;34m]\u001b[0m\u001b[0;34m)\u001b[0m \u001b[0;34m//\u001b[0m \u001b[0;36m10\u001b[0m\u001b[0;34m)\u001b[0m\u001b[0;34m\u001b[0m\u001b[0m\n\u001b[0m\u001b[1;32m      5\u001b[0m     \u001b[0;32mif\u001b[0m \u001b[0mpos1\u001b[0m \u001b[0;34m!=\u001b[0m \u001b[0mpos2\u001b[0m\u001b[0;34m:\u001b[0m\u001b[0;34m\u001b[0m\u001b[0m\n\u001b[1;32m      6\u001b[0m         \u001b[0mp\u001b[0m \u001b[0;34m=\u001b[0m \u001b[0mnp\u001b[0m\u001b[0;34m.\u001b[0m\u001b[0msort\u001b[0m\u001b[0;34m(\u001b[0m\u001b[0;34m[\u001b[0m\u001b[0mcorrect_pos\u001b[0m\u001b[0;34m(\u001b[0m\u001b[0mpos1\u001b[0m\u001b[0;34m)\u001b[0m\u001b[0;34m,\u001b[0m \u001b[0mcorrect_pos\u001b[0m\u001b[0;34m(\u001b[0m\u001b[0mpos2\u001b[0m\u001b[0;34m)\u001b[0m\u001b[0;34m]\u001b[0m\u001b[0;34m)\u001b[0m\u001b[0;34m\u001b[0m\u001b[0m\n",
      "\u001b[0;31mIndexError\u001b[0m: list index out of range"
     ]
    }
   ],
   "source": [
    "acc = 0.\n",
    "count = 0.\n",
    "for IDX in tqdm(range(6000)):\n",
    "    pos1, pos2 = int(float(all_angles[IDX].split(' ')[1]) // 10) , int(float(all_angles[IDX].split(' ')[2]) // 10)\n",
    "    if pos1 != pos2:\n",
    "        p = np.sort([correct_pos(pos1), correct_pos(pos2)])\n",
    "        ch = np.arange(15,30)\n",
    "        T, C, w1, w2, fs, amax = sps(basedir + 'aedat/train/' + all_train[IDX] + '.aedat', sigma=5, channels=ch)\n",
    "        a = np.histogram(amax, 19, range=[0, 18], normed=True)\n",
    "        ii = find_local_maxima(a[0])\n",
    "        \n",
    "        kk = np.sort(ii[np.argsort(a[0][ii])[::-1][:2]])\n",
    "        if len(kk) == 2:\n",
    "            if p[0] == kk[0] and p[1] == kk[1]:\n",
    "                acc += 1.\n",
    "            count += 1.\n",
    "print acc / count * 100"
   ]
  },
  {
   "cell_type": "code",
   "execution_count": null,
   "metadata": {},
   "outputs": [],
   "source": [
    "A = np.arange(0, 200, 10)\n",
    "a = plt.hist(amax, int(np.max(amax)), normed=True)\n",
    "\n",
    "\n",
    "b = np.linspace(0, 18, 200)\n",
    "\n",
    "gmm = GaussianMixture(2, n_init=20)\n",
    "gmm.fit(amax.reshape(-1,1))\n",
    "plt.figure()\n",
    "g1 = norm.pdf(b, gmm.means_[0], gmm.covariances_[0][0])\n",
    "g2 = norm.pdf(b, gmm.means_[1], gmm.covariances_[1][0])\n",
    "# g3 = norm.pdf(b, gmm.means_[2], gmm.covariances_[2][0])\n",
    "plt.plot(g1 / np.max(g1))\n",
    "plt.plot(g2 / np.max(g2))\n",
    "# plt.plot(g3 / np.max(g3))\n",
    "\n",
    "# print A[np.argmax(g1)]\n",
    "# print A[np.argmax(g2)]\n",
    "print pos1\n",
    "print pos2"
   ]
  },
  {
   "cell_type": "code",
   "execution_count": null,
   "metadata": {
    "collapsed": true
   },
   "outputs": [],
   "source": [
    "IDX = 200\n",
    "\n",
    "h5file = '/Data/DATASETS/CAESAR_TIDIGITS/tidigits_only_rec_mix.h5'\n",
    "\n",
    "h5 = tables.open_file(h5file, 'r')\n",
    "dataset = h5.get_node(os.path.join(os.sep, 'default', 'train'))\n",
    "\n",
    "channels = h5.list_nodes(os.path.join(os.sep, 'default', 'train'))\n",
    "\n",
    "print all_train[IDX]\n",
    "timestamps, addresses = es.loadaerdat(basedir + 'aedat/train/' + all_train[IDX] + '.aedat')\n",
    "timestamps, addresses = remove_trigger(timestamps, addresses)\n",
    "\n",
    "timestamps, channel_id, ear_id, neuron_id, filterbank_id = es.decode_ams1c(timestamps, addresses, return_type=False)\n",
    "\n",
    "# load wav\n",
    "spk1, spk2, _ = re.compile('[0-9]+').split(all_train[IDX])\n",
    "_, utt1, utt2 = re.compile('[A-Z]+').split(all_train[IDX])\n",
    "pos1, pos2 = int(float(all_angles[IDX].split(' ')[1]) // 10) , int(float(all_angles[IDX].split(' ')[2]) // 10)\n",
    "print pos1\n",
    "print pos2\n",
    "fs, w1 = wavfile.read(basedir + 'wavs/train/' + gts1[IDX].replace('\\\\', '/') + '.wav')\n",
    "fs, w2 = wavfile.read(basedir + 'wavs/train/' + gts2[IDX].replace('\\\\', '/') + '.wav')\n",
    "\n",
    "fig = plt.figure(figsize=(10,5))\n",
    "\n",
    "ax = fig.add_subplot(2,1,1)\n",
    "\n",
    "m_len = max([len(w1), len(w2)])\n",
    "w1 = np.concatenate([w1, np.zeros(m_len - len(w1),)])\n",
    "w2 = np.concatenate([w2, np.zeros(m_len - len(w2),)])\n",
    "\n",
    "print m_len\n",
    "\n",
    "Y = np.reshape(channels[0].features[IDX], channels[0].feature_shape[IDX])[:, :41]\n",
    "\n",
    "print Y.shape\n",
    "ax.imshow(Y.T, aspect='auto')\n",
    "# ax.plot(np.sum(Y, 1) / 400.0 * 20, 'r')\n",
    "ax.invert_yaxis()\n",
    "\n",
    "ax = fig.add_subplot(2,1,2)\n",
    "\n",
    "K = spike_features(timestamps, channel_id)[2:]\n",
    "\n",
    "env_log = np.sum(Y, 1)\n",
    "env_sps = np.sum(K, 0)\n",
    "\n",
    "k = np.correlate(env_log, env_sps, 'full')\n",
    "\n",
    "shift = np.argmax(np.abs(k)) - len(env_sps)\n",
    "print shift\n",
    "\n",
    "ax.imshow(K[::-1, np.abs(shift):], aspect='auto')\n",
    "# ax.plot(np.sum(K, 0) / 1000.0 * 10 + 20, 'r')\n",
    "ax.invert_yaxis()\n",
    "\n",
    "# ax.plot(np.sum(K, 0) / 1000.0 * 25, 'r')\n",
    "# ax.imshow(np.log10(wind_sp(timestamps, channel_id) + 1e-9), aspect='auto')\n",
    "# ax.plot(timestamps, channel_id, 'o')\n",
    "ax.set_xlim([0, Y.shape[0]])\n",
    "# ax.plot()\n",
    "\n",
    "fig = plt.figure()\n",
    "ax = fig.add_subplot(2,1,1)\n",
    "ax.set_xlim([0, Y.shape[0]])\n",
    "ax.plot(np.sum(Y, 1) / 400.0 * 20, 'r')\n",
    "ax = fig.add_subplot(2,1,2)\n",
    "ax.plot(np.sum(K, 0) / 1000.0 * 10 + 20, 'r')\n",
    "ax.set_xlim([0, Y.shape[0]])"
   ]
  },
  {
   "cell_type": "markdown",
   "metadata": {
    "collapsed": true
   },
   "source": [
    "# Create dataset with alligned log/spikes"
   ]
  },
  {
   "cell_type": "code",
   "execution_count": null,
   "metadata": {
    "collapsed": true
   },
   "outputs": [],
   "source": [
    "all_log = []\n",
    "all_spk = []\n",
    "\n",
    "h5file = '/Data/DATASETS/CAESAR_TIDIGITS/tidigits_only_rec_mix.h5'\n",
    "\n",
    "h5 = tables.open_file(h5file, 'r')\n",
    "dataset = h5.get_node(os.path.join(os.sep, 'default', 'train'))\n",
    "\n",
    "channels = h5.list_nodes(os.path.join(os.sep, 'default', 'train'))\n",
    "\n",
    "for IDX in tqdm(range(len(all_train))):\n",
    "    timestamps, addresses = es.loadaerdat(basedir + 'aedat/train/' + all_train[IDX] + '.aedat')\n",
    "    timestamps, addresses = remove_trigger(timestamps, addresses)\n",
    "\n",
    "    timestamps, channel_id, ear_id, neuron_id, filterbank_id = es.decode_ams1c(timestamps, addresses, return_type=False)\n",
    "\n",
    "    # load wav\n",
    "    spk1, spk2, _ = re.compile('[0-9]+').split(all_train[IDX])\n",
    "    _, utt1, utt2 = re.compile('[A-Z]+').split(all_train[IDX])\n",
    "    pos1, pos2 = int(float(all_angles[IDX].split(' ')[1]) // 10) , int(float(all_angles[IDX].split(' ')[2]) // 10)\n",
    "\n",
    "    fs, w1 = wavfile.read(basedir + 'wavs/train/' + gts1[IDX].replace('\\\\', '/') + '.wav')\n",
    "    fs, w2 = wavfile.read(basedir + 'wavs/train/' + gts2[IDX].replace('\\\\', '/') + '.wav')\n",
    "\n",
    "\n",
    "    m_len = max([len(w1), len(w2)])\n",
    "    w1 = np.concatenate([w1, np.zeros(m_len - len(w1),)])\n",
    "    w2 = np.concatenate([w2, np.zeros(m_len - len(w2),)])\n",
    "\n",
    "    Y = np.reshape(channels[0].features[IDX], channels[0].feature_shape[IDX])[:, :41]\n",
    "\n",
    "    K = spike_features(timestamps, channel_id)[2:]\n",
    "\n",
    "    env_log = np.sum(Y, 1)\n",
    "    env_sps = np.sum(K, 0)\n",
    "\n",
    "    k = np.correlate(env_log, env_sps, 'full')\n",
    "\n",
    "    shift = np.argmax(np.abs(k)) - len(env_sps)\n",
    "\n",
    "    K = K[::-1, np.abs(shift):]\n",
    "    K = K[:, :Y.shape[0]]\n",
    "    Y = Y.T\n",
    "    \n",
    "    if K.shape[1] != Y.shape[1]:\n",
    "        print K.shape\n",
    "        print Y.shape\n",
    "        raise ValueError()\n",
    "    all_log.append(Y)\n",
    "    all_spk.append(K)"
   ]
  },
  {
   "cell_type": "code",
   "execution_count": null,
   "metadata": {
    "collapsed": true
   },
   "outputs": [],
   "source": [
    "fig = plt.figure(figsize=(10, 5))\n",
    "ax = fig.add_subplot(2,1,1)\n",
    "ax.imshow(all_spk[300], aspect='auto')\n",
    "ax = fig.add_subplot(2,1,2)\n",
    "ax.imshow(all_log[300], aspect='auto')"
   ]
  },
  {
   "cell_type": "code",
   "execution_count": null,
   "metadata": {
    "collapsed": true
   },
   "outputs": [],
   "source": [
    "all_log_test = []\n",
    "all_spk_test = []\n",
    "\n",
    "h5file = '/Data/DATASETS/CAESAR_TIDIGITS/tidigits_only_rec_mix.h5'\n",
    "\n",
    "h5 = tables.open_file(h5file, 'r')\n",
    "dataset = h5.get_node(os.path.join(os.sep, 'default', 'test'))\n",
    "\n",
    "channels = h5.list_nodes(os.path.join(os.sep, 'default', 'test'))\n",
    "\n",
    "for IDX in tqdm(range(len(all_test))):\n",
    "    timestamps, addresses = es.loadaerdat(basedir + 'aedat/test/' + all_test[IDX] + '.aedat')\n",
    "    timestamps, addresses = remove_trigger(timestamps, addresses)\n",
    "\n",
    "    timestamps, channel_id, ear_id, neuron_id, filterbank_id = es.decode_ams1c(timestamps, addresses, return_type=False)\n",
    "\n",
    "    # load wav\n",
    "    spk1, spk2, _ = re.compile('[0-9]+').split(all_test[IDX])\n",
    "    _, utt1, utt2 = re.compile('[A-Z]+').split(all_test[IDX])\n",
    "    pos1, pos2 = int(float(all_angles_test[IDX].split(' ')[1]) // 10) , int(float(all_angles_test[IDX].split(' ')[2]) // 10)\n",
    "\n",
    "    fs, w1 = wavfile.read(basedir + 'wavs/test/' + gts1_test[IDX].replace('\\\\', '/') + '.wav')\n",
    "    fs, w2 = wavfile.read(basedir + 'wavs/test/' + gts2_test[IDX].replace('\\\\', '/') + '.wav')\n",
    "\n",
    "\n",
    "    m_len = max([len(w1), len(w2)])\n",
    "    w1 = np.concatenate([w1, np.zeros(m_len - len(w1),)])\n",
    "    w2 = np.concatenate([w2, np.zeros(m_len - len(w2),)])\n",
    "\n",
    "    Y = np.reshape(channels[0].features[IDX], channels[0].feature_shape[IDX])[:, :41]\n",
    "\n",
    "    K = spike_features(timestamps, channel_id)[2:]\n",
    "\n",
    "    env_log = np.sum(Y, 1)\n",
    "    env_sps = np.sum(K, 0)\n",
    "\n",
    "    k = np.correlate(env_log, env_sps, 'full')\n",
    "\n",
    "    shift = np.argmax(np.abs(k)) - len(env_sps)\n",
    "\n",
    "    K = K[::-1, np.abs(shift):]\n",
    "    K = K[:, :Y.shape[0]]\n",
    "    Y = Y.T\n",
    "    \n",
    "    if K.shape[1] != Y.shape[1]:\n",
    "        print K.shape\n",
    "        print Y.shape\n",
    "        raise ValueError()\n",
    "    all_log_test.append(Y)\n",
    "    all_spk_test.append(K)"
   ]
  },
  {
   "cell_type": "code",
   "execution_count": null,
   "metadata": {
    "collapsed": true
   },
   "outputs": [],
   "source": [
    "fig = plt.figure(figsize=(10, 5))\n",
    "ax = fig.add_subplot(2,1,1)\n",
    "ax.imshow(all_spk_test[300], aspect='auto')\n",
    "ax = fig.add_subplot(2,1,2)\n",
    "ax.imshow(all_log_test[300], aspect='auto')"
   ]
  },
  {
   "cell_type": "code",
   "execution_count": null,
   "metadata": {
    "collapsed": true
   },
   "outputs": [],
   "source": [
    "pkl.dump({'log': all_log, 'spk': all_spk}, open('all_log_spk_train.pkl', 'w'))\n",
    "pkl.dump({'log': all_log_test, 'spk': all_spk_test}, open('all_log_spk_test.pkl', 'w'))"
   ]
  },
  {
   "cell_type": "code",
   "execution_count": null,
   "metadata": {
    "collapsed": true
   },
   "outputs": [],
   "source": [
    "all_log = pkl.load(open('all_log_spk_train.pkl', 'r'))['log']\n",
    "print len(all_log)\n",
    "all_spk = pkl.load(open('all_log_spk_train.pkl', 'r'))['spk']\n",
    "print len(all_spk)\n",
    "all_log_test = pkl.load(open('all_log_spk_test.pkl', 'r'))['log']\n",
    "print len(all_log_test)\n",
    "all_spk_test = pkl.load(open('all_log_spk_test.pkl', 'r'))['spk']\n",
    "print len(all_spk_test)"
   ]
  },
  {
   "cell_type": "code",
   "execution_count": null,
   "metadata": {
    "collapsed": true
   },
   "outputs": [],
   "source": [
    "Y_train = np.concatenate(all_log, 1)\n",
    "print Y_train.shape\n",
    "X_train = np.concatenate(all_spk, 1)\n",
    "print X_train.shape\n",
    "\n",
    "Y_test = np.concatenate(all_log_test, 1)\n",
    "print Y_test.shape\n",
    "X_test = np.concatenate(all_spk_test, 1)\n",
    "print X_test.shape"
   ]
  },
  {
   "cell_type": "code",
   "execution_count": null,
   "metadata": {
    "collapsed": true
   },
   "outputs": [],
   "source": [
    "ctx = 5\n",
    "shift = 1\n",
    "n_win = (X_train.shape[1] - ctx * 2) // shift\n",
    "\n",
    "X_train = np.array([X_train[:, i - ctx:i + ctx + 1].reshape(-1,) for i in range(ctx, n_win * shift, shift)])\n",
    "print X_train.shape\n",
    "Y_train = Y_train[:, ctx + 1:-(ctx * 2 - 1)].T\n",
    "print Y_train.shape\n",
    "\n",
    "n_win = (X_test.shape[1] - ctx * 2) // shift\n",
    "\n",
    "X_test = np.array([X_test[:, i - ctx:i + ctx + 1].reshape(-1,) for i in range(ctx, n_win * shift, shift)])\n",
    "print X_test.shape \n",
    "Y_test = Y_test[:, ctx + 1:-(ctx * 2 - 1)].T\n",
    "print Y_test.shape"
   ]
  },
  {
   "cell_type": "code",
   "execution_count": null,
   "metadata": {
    "collapsed": true
   },
   "outputs": [],
   "source": [
    "lr = MLPRegressor(hidden_layer_sizes=(256, 256), verbose=True, early_stopping=True)\n",
    "lr.fit(X_train, Y_train)\n",
    "\n",
    "Y_pred = lr.predict(X_test)"
   ]
  },
  {
   "cell_type": "code",
   "execution_count": null,
   "metadata": {
    "collapsed": true
   },
   "outputs": [],
   "source": [
    "pkl.dump(lr, open('mlp_256_256_spk2log.pkl', 'wb'))"
   ]
  },
  {
   "cell_type": "code",
   "execution_count": null,
   "metadata": {
    "collapsed": true
   },
   "outputs": [],
   "source": [
    "Y_pred = lr.predict(X_test)\n",
    "fig = plt.figure(figsize=(20,10))\n",
    "ax = fig.add_subplot(2,1,1)\n",
    "ax.imshow(Y_test.T[:, 1000:1200], aspect='auto')\n",
    "ax = fig.add_subplot(2,1,2)\n",
    "ax.imshow(Y_pred.T[:, 1000:1200], aspect='auto')"
   ]
  },
  {
   "cell_type": "code",
   "execution_count": null,
   "metadata": {
    "collapsed": true
   },
   "outputs": [],
   "source": [
    "Q = (Y_pred - Y_test)\n",
    "a = plt.hist(Q.reshape(-1), 100, normed=True)\n",
    "\n",
    "\n",
    "gmm = GaussianMixture(1, n_init=20)\n",
    "gmm.fit(Q.reshape(-1,1))\n",
    "g1 = norm.pdf(a[1], gmm.means_[0], 1)\n",
    "plt.plot(a[1], g1)\n",
    "\n",
    "print \"Variance of reconstruction noise is {}\".format(gmm.covariances_[0][0][0])\n"
   ]
  },
  {
   "cell_type": "code",
   "execution_count": null,
   "metadata": {
    "collapsed": true
   },
   "outputs": [],
   "source": [
    "# plot normed histogram\n",
    "plt.hist(Q.reshape(-1), 100, normed=True)\n",
    "\n",
    "# find minimum and maximum of xticks, so we know\n",
    "# where we should compute theoretical distribution\n",
    "xt = plt.xticks()[0]  \n",
    "xmin, xmax = min(xt), max(xt)  \n",
    "lnspc = np.linspace(xmin, xmax, len(Q.reshape(-1)))\n",
    "# exactly same as above\n",
    "ag,bg = stats.laplace.fit(Q.reshape(-1))  \n",
    "pdf_laplace = stats.laplace.pdf(lnspc, ag, bg)  \n",
    "plt.plot(lnspc, pdf_laplace, label=\"Laplace\")\n"
   ]
  },
  {
   "cell_type": "code",
   "execution_count": null,
   "metadata": {
    "collapsed": true
   },
   "outputs": [],
   "source": [
    "all_spk = pkl.load(open('all_log_spk.pkl', 'r'))['spk']\n",
    "print len(all_spk)"
   ]
  },
  {
   "cell_type": "markdown",
   "metadata": {},
   "source": [
    "# Process SPS and save"
   ]
  },
  {
   "cell_type": "code",
   "execution_count": null,
   "metadata": {},
   "outputs": [],
   "source": [
    "all_separated_train = []\n",
    "all_label_train = []\n",
    "for IDX in tqdm(range(len(all_train))):\n",
    "\n",
    "    T, C, w1, w2, fs = sps(basedir + 'aedat/train/' + all_train[IDX] + '.aedat', sigma=5)\n",
    "\n",
    "    spkf1 = spike_features(T[0], C[0])[2:]\n",
    "    spkf2 = spike_features(T[1], C[1])[2:]\n",
    "    \n",
    "    _, utt1, utt2 = re.compile('[A-Z]+').split(all_train[IDX])\n",
    "\n",
    "    all_separated_train.append(spkf1)\n",
    "    all_separated_train.append(spkf2)\n",
    "    all_label_train.append(utt1)\n",
    "    all_label_train.append(utt2)\n"
   ]
  },
  {
   "cell_type": "code",
   "execution_count": null,
   "metadata": {
    "collapsed": true
   },
   "outputs": [],
   "source": [
    "pkl.dump({'spk': all_separated_train, 'lbl': all_label_train}, open('all_sep_spk_train.pkl', 'w'))"
   ]
  },
  {
   "cell_type": "code",
   "execution_count": null,
   "metadata": {},
   "outputs": [],
   "source": [
    "all_separated_test = []\n",
    "all_label_test = []\n",
    "for IDX in tqdm(range(len(all_test))):\n",
    "\n",
    "    T, C, w1, w2, fs = sps(basedir + 'aedat/test/' + all_test[IDX] + '.aedat', sigma=5)\n",
    "\n",
    "    spkf1 = spike_features(T[0], C[0])[2:]\n",
    "    spkf2 = spike_features(T[1], C[1])[2:]\n",
    "    \n",
    "    _, utt1, utt2 = re.compile('[A-Z]+').split(all_test[IDX])\n",
    "\n",
    "    all_separated_test.append(spkf1)\n",
    "    all_separated_test.append(spkf2)\n",
    "    all_label_test.append(utt1)\n",
    "    all_label_test.append(utt2)"
   ]
  },
  {
   "cell_type": "code",
   "execution_count": null,
   "metadata": {
    "collapsed": true
   },
   "outputs": [],
   "source": [
    "pkl.dump({'spk': all_separated_test, 'lbl': all_label_test}, open('all_sep_spk_test.pkl', 'w'))"
   ]
  }
 ],
 "metadata": {
  "kernelspec": {
   "display_name": "Python 2",
   "language": "python",
   "name": "python2"
  },
  "language_info": {
   "codemirror_mode": {
    "name": "ipython",
    "version": 2
   },
   "file_extension": ".py",
   "mimetype": "text/x-python",
   "name": "python",
   "nbconvert_exporter": "python",
   "pygments_lexer": "ipython2",
   "version": "2.7.11"
  }
 },
 "nbformat": 4,
 "nbformat_minor": 2
}
