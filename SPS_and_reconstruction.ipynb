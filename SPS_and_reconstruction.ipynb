{
 "cells": [
  {
   "cell_type": "code",
   "execution_count": 1,
   "metadata": {},
   "outputs": [
    {
     "name": "stderr",
     "output_type": "stream",
     "text": [
      "/home/enea/anaconda2/lib/python2.7/site-packages/h5py/__init__.py:36: FutureWarning: Conversion of the second argument of issubdtype from `float` to `np.floating` is deprecated. In future, it will be treated as `np.float64 == np.dtype(float).type`.\n",
      "  from ._conv import register_converters as _register_converters\n",
      "Using TensorFlow backend.\n"
     ]
    }
   ],
   "source": [
    "import numpy as np\n",
    "from utils import es_utils as es\n",
    "from utils import itd_utils as itd\n",
    "from utils import prob_utils as prob\n",
    "\n",
    "import pickle as pkl\n",
    "\n",
    "import matplotlib.pyplot as plt\n",
    "%matplotlib inline\n",
    "\n",
    "from python_speech_features import logfbank\n",
    "\n",
    "from scipy.io import wavfile\n",
    "import re\n",
    "from scipy import stats\n",
    "from sklearn.mixture import GaussianMixture\n",
    "from scipy.stats import norm\n",
    "import gammamix\n",
    "\n",
    "from collections import OrderedDict\n",
    "import itertools\n",
    "from scipy.ndimage.filters import gaussian_filter\n",
    "from tqdm import tqdm\n",
    "\n",
    "from sklearn.linear_model import LinearRegression\n",
    "from sklearn.neural_network import MLPRegressor\n",
    "\n",
    "import os\n",
    "import tables\n",
    "\n",
    "import keras\n",
    "import keras.backend as K\n",
    "from keras.models import load_model\n",
    "import sys\n"
   ]
  },
  {
   "cell_type": "markdown",
   "metadata": {},
   "source": [
    "# Some routines"
   ]
  },
  {
   "cell_type": "code",
   "execution_count": 2,
   "metadata": {},
   "outputs": [],
   "source": [
    "def remove_trigger(timestamps, addresses):\n",
    "    dx = 0.000001\n",
    "    idx =  np.argmax(np.diff(timestamps)/dx)\n",
    "    return timestamps[idx + 1:], addresses[idx + 1:]\n",
    "\n",
    "def wind_sp(ts, ch, w=0.001):\n",
    "    ts_int = (ts // w).astype('int32')\n",
    "    if len(ts_int) < 1:\n",
    "        ts_int = np.array([0,0])\n",
    "\n",
    "    A = np.zeros((np.max(ts_int) + 3000, 64))\n",
    "    A += np.abs(np.random.randn(A.shape[0], A.shape[1]))\n",
    "\n",
    "    for _t, _c in zip(ts_int, ch):\n",
    "        A[_t, _c] += 100\n",
    "    \n",
    "#     A = np.minimum(A, np.ones_like(A))\n",
    "    # returning [ch, T]\n",
    "    return A.T\n",
    "\n",
    "def exp_feat(A, win=0.05, tpe='lap', l=300):\n",
    "    if tpe == 'exp':\n",
    "        t = np.arange(0, win, 0.001)\n",
    "        b = np.exp(-l * t)\n",
    "    elif tpe == 'lap':\n",
    "        t = np.arange(-win, win, 0.001)\n",
    "        b = np.exp(-l * np.abs(t))\n",
    "        \n",
    "    b /= np.linalg.norm(b)\n",
    "    AA = np.array([np.convolve(_a, b, 'same') for _a in A])\n",
    "    return AA\n",
    "\n",
    "def smear_fr(A, win=3, l=10):\n",
    "#     t = np.arange(-win, win, 1)\n",
    "#     b = np.exp(-l * np.abs(t))\n",
    "#     b = np.concatenate([np.arange(win), np.arange(win)[::-1]])\n",
    "#     A = np.array([np.convolve(_a, b, 'same') for _a in A.T])\n",
    "    A = gaussian_filter(A, 1)\n",
    "    return A\n",
    "\n",
    "def simple_low_pass(X, win=60, shift=40):\n",
    "    n_win = (X.shape[0] - win) // shift\n",
    "    XX = np.zeros((n_win, X.shape[1]))\n",
    "    for i in range(0, n_win):\n",
    "        XX[i] = np.sum(X[i * shift: (i + 1) * shift] , 0) / win\n",
    "    return XX\n",
    "\n",
    "def spike_features(T1, C1):\n",
    "    A = wind_sp(np.array(T1), np.array(C1).astype('int32'))\n",
    "    AA = exp_feat(A, win=0.05, l=30, tpe='lap')\n",
    "    AAA = smear_fr(AA, win=3)\n",
    "    AAAA = simple_low_pass(AAA.T).T\n",
    "    \n",
    "    return np.log10(AAAA + 1e-9)\n",
    "\n",
    "def get_ctx_win(X, Y, ctx=5, shift=1):\n",
    "    n_win = (X.shape[1] - ctx * 2) // shift\n",
    "    X_re = np.array([X[:, i - ctx:i + ctx + 1].reshape(-1,) for i in range(ctx, n_win * shift, shift)])\n",
    "    Y_re = Y[:, ctx + 1:-(ctx * 2 - 1)].T\n",
    "    return X_re, Y_re\n",
    "\n",
    "def find_local_maxima(x, win=5):\n",
    "    to_pad = win // 2\n",
    "    x = np.pad(x, (to_pad,to_pad), 'constant', constant_values=(0, 0))\n",
    "    idx = []\n",
    "    for i in range(to_pad, len(x) - to_pad):\n",
    "        if np.argmax(x[i - to_pad: i + to_pad]) == to_pad:\n",
    "            idx.append(i - to_pad)\n",
    "    return np.array(idx)\n",
    "\n",
    "def correct_pos(pos):\n",
    "    if pos == 0:\n",
    "        pos = 1\n",
    "    if pos == 18:\n",
    "        pos = 17\n",
    "    return pos\n"
   ]
  },
  {
   "cell_type": "markdown",
   "metadata": {},
   "source": [
    "# SPS"
   ]
  },
  {
   "cell_type": "code",
   "execution_count": 3,
   "metadata": {
    "collapsed": true
   },
   "outputs": [],
   "source": [
    "def sps(idx, subset, sigma=20, channels=np.arange(64)):\n",
    "    \n",
    "    filename = basedir + 'aedat/{}/'.format(subset) + ALL_NAMES[subset][IDX] + '.aedat'\n",
    "    \n",
    "    # load / trigger / decode\n",
    "    timestamps, addresses = es.loadaerdat(filename)\n",
    "#     timestamps, addresses = remove_trigger(timestamps, addresses)\n",
    "    timestamps, channel_id, ear_id, neuron_id, filterbank_id = es.decode_ams1c(timestamps, addresses, return_type=False)\n",
    "\n",
    "    # load wavs\n",
    "    spk1, spk2, _ = re.compile('[0-9]+').split(ALL_NAMES[subset][IDX])\n",
    "    _, utt1, utt2 = re.compile('[A-Z]+').split(ALL_NAMES[subset][IDX])\n",
    "    \n",
    "    angles = ALL_ANGLES[subset][IDX].split(' ')\n",
    "    pos1, pos2 = int(float(angles[1]) // 10), int(float(angles[2]) // 10)\n",
    "    pos1, pos2 = correct_pos(pos1), correct_pos(pos2)\n",
    "    pos = [pos1, pos2]\n",
    "    \n",
    "    fs, w1 = wavfile.read(basedir + 'wavs/{}/'.format(subset) + GTS1[subset][IDX].replace('\\\\', '/') + '.wav')\n",
    "    fs, w2 = wavfile.read(basedir + 'wavs/{}/'.format(subset) + GTS2[subset][IDX].replace('\\\\', '/') + '.wav')\n",
    "    \n",
    "    # get itd and fix them\n",
    "    _aa = {}\n",
    "    idx_dict = {}\n",
    "    for kk in channels:\n",
    "        indices_channels = np.isin(channel_id, np.array([kk]))\n",
    "        if kk in DICT_C:\n",
    "            try:\n",
    "                _itds, _itd_idx = itd.get_itds(timestamps[indices_channels], ear_id[indices_channels], neuron_id[indices_channels], save_to_file=None,\n",
    "                                     verbose=False, max_itd=max_itd)\n",
    "                idx_dict[kk] = _itd_idx\n",
    "                _mu = DICT_C[kk]['mu']\n",
    "                _corr = (_itds - _mu)  \n",
    "                _aa[kk] = _corr\n",
    "            except Exception as e:\n",
    "                pass\n",
    "\n",
    "    # get probabilities\n",
    "    index_angles = np.vstack([np.arange(19), np.arange(0, 190, 10)]).T\n",
    "\n",
    "    num_angles = len(PRIORS)\n",
    "    initial_estimate = np.ones(num_angles) / num_angles # all angles are a priori equally likely\n",
    "    transition_probabilities = prob.get_transition_probabilities(index_angles, sigma=sigma) # gaussian a priori probability of itds given a certain position\n",
    "    \n",
    "    arg = {}\n",
    "    for k, _a in _aa.iteritems():\n",
    "        estimates, argmax_estimates = prob.estimate(_a, initial_estimate, transition_probabilities, ITD_DICT, PRIORS)\n",
    "        arg[k] = argmax_estimates\n",
    "        \n",
    "    amax = np.array(list(itertools.chain.from_iterable([v for _, v in arg.iteritems()])))\n",
    "    \n",
    "    # get separated spikes\n",
    "    T = []\n",
    "    C = []\n",
    "    for p in [pos1, pos2]:\n",
    "        T1 = []\n",
    "        C1 = []\n",
    "        for ch in idx_dict.keys():\n",
    "            t = (timestamps[channel_id == ch])[idx_dict[ch][arg[ch] == p]]\n",
    "            T1.extend(t)\n",
    "            C1.extend(np.ones_like(t) * ch)\n",
    "        T.append(T1)\n",
    "        C.append(C1)\n",
    "    \n",
    "    return T, C, w1, w2, fs, amax, pos\n",
    "    "
   ]
  },
  {
   "cell_type": "markdown",
   "metadata": {},
   "source": [
    "# Some data preparation"
   ]
  },
  {
   "cell_type": "code",
   "execution_count": 4,
   "metadata": {
    "collapsed": true
   },
   "outputs": [],
   "source": [
    "basedir = '/Data/DATASETS/CAESAR_TIDIGITS/'\n",
    "\n",
    "num_bins = 80\n",
    "max_itd = 800e-6\n",
    "num_channels = 64\n",
    "\n",
    "ALL_ANGLES = {}\n",
    "ALL_NAMES = {}\n",
    "GTS1 = {}\n",
    "GTS2 = {}\n",
    "\n",
    "with open(basedir + 'log_train.txt') as t:\n",
    "    ALL_ANGLES['train'] = [x for x in t.readlines()]\n",
    "\n",
    "with open(basedir + 'log_test.txt') as t:\n",
    "    ALL_ANGLES['test'] = [x for x in t.readlines()]\n",
    "\n",
    "with open('train_set.txt') as t:\n",
    "    ALL_NAMES['train'] = [line.split(' ')[4].strip() for line in t.readlines()]\n",
    "with open('train_set.txt') as t:\n",
    "    GTS1['train'] = [line.split(' ')[0].strip() for line in t.readlines()]\n",
    "with open('train_set.txt') as t:\n",
    "    GTS2['train'] = [line.split(' ')[1].strip() for line in t.readlines()]\n",
    "    \n",
    "with open('test_set.txt') as t:\n",
    "    ALL_NAMES['test'] = [line.split(' ')[4].strip() for line in t.readlines()]\n",
    "with open('test_set.txt') as t:\n",
    "    GTS1['test'] = [line.split(' ')[0].strip() for line in t.readlines()]\n",
    "with open('test_set.txt') as t:\n",
    "    GTS2['test'] = [line.split(' ')[1].strip() for line in t.readlines()]\n",
    "    \n",
    "PRIORS = np.load('priors_long_hv_corrected_all.npy')\n",
    "DICT_C = pkl.load(open('correction_dict.pkl', 'r'))\n",
    "ITD_DICT = itd.get_itd_dict(max_itd, num_bins) \n"
   ]
  },
  {
   "cell_type": "markdown",
   "metadata": {},
   "source": [
    "# Loading example"
   ]
  },
  {
   "cell_type": "code",
   "execution_count": null,
   "metadata": {
    "collapsed": true
   },
   "outputs": [],
   "source": [
    "IDX = 1850\n",
    "subset = 'test'\n",
    "\n",
    "ch = np.arange(0,64)\n",
    "T, C, w1, w2, fs, amax, pos = sps(IDX, subset=subset, sigma=180, channels=ch)\n",
    "\n",
    "spkf1 = spike_features(T[0], C[0])[2:]\n",
    "spkf2 = spike_features(T[1], C[1])[2:]\n",
    "\n",
    "# w_spk1 = get_ctx_win(spkf1[::-1])\n",
    "# w_spk2 = get_ctx_win(spkf2[::-1])\n",
    "\n",
    "fig = plt.figure(figsize=(20, 5))\n",
    "\n",
    "for spkf, k, w in zip([spkf1, spkf2], range(2), [w1, w2]):\n",
    "    \n",
    "    ax = fig.add_subplot(2, 3, k*3 + 2)\n",
    "    Y = logfbank(w, fs, nfft=2048,winlen=0.06,winstep=0.04)\n",
    "    ax.imshow(Y.T, aspect='auto')\n",
    "    \n",
    "    ax = fig.add_subplot(2, 3, k*3 + 1)\n",
    "    ax.imshow(spkf[:, :Y.shape[0]], aspect='auto')\n"
   ]
  },
  {
   "cell_type": "code",
   "execution_count": null,
   "metadata": {
    "collapsed": true
   },
   "outputs": [],
   "source": [
    "A = np.arange(0, 200, 10)\n",
    "a = plt.hist(amax, int(np.max(amax)), normed=True)\n",
    "\n",
    "b = np.linspace(0, 19, 19)\n",
    "\n",
    "gmm = GaussianMixture(2, n_init=20)\n",
    "gmm.fit(amax.reshape(-1,1))\n",
    "plt.figure()\n",
    "g1 = norm.pdf(b, gmm.means_[0], gmm.covariances_[0][0])\n",
    "g2 = norm.pdf(b, gmm.means_[1], gmm.covariances_[1][0])\n",
    "# g3 = norm.pdf(b, gmm.means_[2], gmm.covariances_[2][0])\n",
    "plt.plot(g1 / np.max(g1))\n",
    "plt.plot(g2 / np.max(g2))\n",
    "# plt.plot(g3 / np.max(g3))\n",
    "\n",
    "print A[np.argmax(g1)]\n",
    "print A[np.argmax(g2)]\n",
    "print pos"
   ]
  },
  {
   "cell_type": "markdown",
   "metadata": {},
   "source": [
    "# Check precision in localization "
   ]
  },
  {
   "cell_type": "code",
   "execution_count": null,
   "metadata": {
    "collapsed": true
   },
   "outputs": [],
   "source": [
    "sys.stdout.flush()\n",
    "acc = 0.\n",
    "count = 0.\n",
    "for IDX in tqdm(range(5999)):\n",
    "    pos1, pos2 = int(float(all_angles[IDX].split(' ')[1]) // 10) , int(float(all_angles[IDX].split(' ')[2]) // 10)\n",
    "#     if pos1 != pos2: \n",
    "    if np.abs(pos1 - pos2) >= 2:  # non-adiacent or same spot\n",
    "        p = np.sort([correct_pos(pos1), correct_pos(pos2)])\n",
    "        ch = np.arange(15,30)\n",
    "        T, C, w1, w2, fs, amax = sps(basedir + 'aedat/train/' + all_train[IDX] + '.aedat', sigma=5, channels=ch)\n",
    "        a = np.histogram(amax, 19, range=[0, 18], normed=True)\n",
    "        ii = find_local_maxima(a[0])\n",
    "        \n",
    "        kk = np.sort(ii[np.argsort(a[0][ii])[::-1][:2]])\n",
    "        if len(kk) == 2:\n",
    "            if np.abs(p[0] - kk[0]) <= 1 and np.abs(p[1] - kk[1]) <= 1:\n",
    "                acc += 1.\n",
    "            count += 1.\n",
    "print acc / count * 100"
   ]
  },
  {
   "cell_type": "markdown",
   "metadata": {},
   "source": [
    "# How many are same position or adiacent"
   ]
  },
  {
   "cell_type": "code",
   "execution_count": null,
   "metadata": {
    "collapsed": true
   },
   "outputs": [],
   "source": [
    "sys.stdout.flush()\n",
    "idx_0_train = []\n",
    "idx_1_train = []\n",
    "idx_0_test = []\n",
    "idx_1_test = []\n",
    "acc = 0.\n",
    "count = 0.\n",
    "for IDX in range(1999):\n",
    "    pos1, pos2 = int(float(all_angles_test[IDX].split(' ')[1]) // 10) , int(float(all_angles_test[IDX].split(' ')[2]) // 10)\n",
    "    pos1, pos2 = correct_pos(pos1), correct_pos(pos2)\n",
    "    if pos1 == pos2:\n",
    "        count += 1.\n",
    "        idx_0_test.append(IDX)\n",
    "\n",
    "print \"TEST: same angle in {:.2} % of the cases ({})\".format(count / 1999 * 100, len(idx_0_test))\n",
    "\n",
    "count = 0.\n",
    "for IDX in range(5999):\n",
    "    pos1, pos2 = int(float(all_angles[IDX].split(' ')[1]) // 10) , int(float(all_angles[IDX].split(' ')[2]) // 10)\n",
    "    pos1, pos2 = correct_pos(pos1), correct_pos(pos2)\n",
    "    if pos1 == pos2:\n",
    "        count += 1.\n",
    "        idx_0_train.append(IDX)\n",
    "        \n",
    "print \"TRAIN: same angle in {:.3} % of the cases ({})\".format(count / 5999 * 100, len(idx_0_train))\n",
    "\n",
    "sys.stdout.flush()\n",
    "acc = 0.\n",
    "count = 0.\n",
    "for IDX in range(1999):\n",
    "    \n",
    "    pos1, pos2 = int(float(all_angles_test[IDX].split(' ')[1]) // 10) , int(float(all_angles_test[IDX].split(' ')[2]) // 10)\n",
    "    pos1, pos2 = correct_pos(pos1), correct_pos(pos2)\n",
    "    if np.abs(pos1 - pos2) == 1:\n",
    "        count += 1.\n",
    "        idx_1_test.append(IDX)\n",
    "\n",
    "print \"TEST: adiacent angle in {:.2} % of the cases ({})\".format(count / 1999 * 100, len(idx_1_test))\n",
    "\n",
    "count = 0.\n",
    "for IDX in range(5999):\n",
    "    pos1, pos2 = int(float(all_angles[IDX].split(' ')[1]) // 10) , int(float(all_angles[IDX].split(' ')[2]) // 10)\n",
    "    pos1, pos2 = correct_pos(pos1), correct_pos(pos2)\n",
    "    if np.abs(pos1 - pos2) == 1:\n",
    "        count += 1.\n",
    "        idx_1_train.append(IDX)\n",
    "        \n",
    "print \"TRAIN: adiacent angle in {:.3} % of the cases ({})\".format(count / 5999 * 100, len(idx_1_train))\n",
    "\n",
    "ang_diff_test = []\n",
    "\n",
    "for IDX in range(1999):\n",
    "    pos1, pos2 = int(float(all_angles_test[IDX].split(' ')[1]) // 10) , int(float(all_angles_test[IDX].split(' ')[2]) // 10)\n",
    "    pos1, pos2 = correct_pos(pos1), correct_pos(pos2)\n",
    "    ang_diff_test.append(np.abs(pos1 - pos2))\n",
    "    \n",
    "ang_diff_train = []\n",
    "\n",
    "for IDX in range(5999):\n",
    "    pos1, pos2 = int(float(all_angles[IDX].split(' ')[1]) // 10) , int(float(all_angles[IDX].split(' ')[2]) // 10)\n",
    "    pos1, pos2 = correct_pos(pos1), correct_pos(pos2)\n",
    "    ang_diff_train.append(np.abs(pos1 - pos2))\n",
    "    \n",
    "fig = plt.figure()\n",
    "ax = fig.add_subplot(1,2,1)\n",
    "_ = ax.hist(ang_diff_train, 16, normed=True)\n",
    "ax.set_title('train')\n",
    "ax = fig.add_subplot(1,2,2)\n",
    "_ = ax.hist(ang_diff_test, 16, normed=True)\n",
    "ax.set_title('test')\n",
    "\n",
    "plt.tight_layout()"
   ]
  },
  {
   "cell_type": "markdown",
   "metadata": {},
   "source": [
    "# Load and shift correctly"
   ]
  },
  {
   "cell_type": "code",
   "execution_count": null,
   "metadata": {},
   "outputs": [],
   "source": [
    "IDX = 388\n",
    "subset = 'test'\n",
    "\n",
    "h5file = '/Data/DATASETS/CAESAR_TIDIGITS/tidigits_log_mix.h5'\n",
    "\n",
    "h5 = tables.open_file(h5file, 'r')\n",
    "dataset = h5.get_node(os.path.join(os.sep, 'default', subset))\n",
    "\n",
    "channels = h5.list_nodes(os.path.join(os.sep, 'default', subset))\n",
    "\n",
    "print ALL_NAMES[subset][IDX]\n",
    "timestamps, addresses = es.loadaerdat(basedir + 'aedat/{}/'.format(subset) + ALL_NAMES[subset][IDX] + '.aedat')\n",
    "timestamps, addresses = remove_trigger(timestamps, addresses)\n",
    "\n",
    "timestamps, channel_id, ear_id, neuron_id, filterbank_id = es.decode_ams1c(timestamps, addresses, return_type=False)\n",
    "\n",
    "# load wav\n",
    "spk1, spk2, _ = re.compile('[0-9]+').split(ALL_NAMES[subset][IDX])\n",
    "_, utt1, utt2 = re.compile('[A-Z]+').split(ALL_NAMES[subset][IDX])\n",
    "pos1, pos2 = int(float(ALL_ANGLES[subset][IDX].split(' ')[1]) // 10) , int(float(ALL_ANGLES[subset][IDX].split(' ')[2]) // 10)\n",
    "print pos1\n",
    "print pos2\n",
    "fs, w1 = wavfile.read(basedir + 'wavs/{}/'.format(subset) + GTS1[subset][IDX].replace('\\\\', '/') + '.wav')\n",
    "fs, w2 = wavfile.read(basedir + 'wavs/{}/'.format(subset) + GTS2[subset][IDX].replace('\\\\', '/') + '.wav')\n",
    "\n",
    "fig = plt.figure(figsize=(20,10))\n",
    "\n",
    "ax = fig.add_subplot(2,1,1)\n",
    "\n",
    "m_len = max([len(w1), len(w2)])\n",
    "w1 = np.concatenate([w1, np.zeros(m_len - len(w1),)])\n",
    "w2 = np.concatenate([w2, np.zeros(m_len - len(w2),)])\n",
    "\n",
    "print m_len\n",
    "\n",
    "Y = np.reshape(channels[0].features[IDX], channels[0].feature_shape[IDX])[:, :41]\n",
    "\n",
    "print Y.shape\n",
    "ax.imshow(Y.T, aspect='auto')\n",
    "# ax.plot(np.sum(Y, 1) / 400.0 * 20, 'r')\n",
    "ax.invert_yaxis()\n",
    "\n",
    "ax = fig.add_subplot(2,1,2)\n",
    "\n",
    "K = spike_features(timestamps, channel_id)[2:]\n",
    "\n",
    "env_log = np.sum(Y, 1)\n",
    "env_sps = np.sum(K, 0)\n",
    "\n",
    "k = np.correlate(env_log, env_sps, 'full')\n",
    "\n",
    "shift = np.argmax(np.abs(k)) - len(env_sps)\n",
    "print shift\n",
    "\n",
    "ax.imshow(K[::-1, np.abs(shift):], aspect='auto')\n",
    "# ax.plot(np.sum(K, 0) / 1000.0 * 10 + 20, 'r')\n",
    "ax.invert_yaxis()\n",
    "\n",
    "# ax.plot(np.sum(K, 0) / 1000.0 * 25, 'r')\n",
    "# ax.imshow(np.log10(wind_sp(timestamps, channel_id) + 1e-9), aspect='auto')\n",
    "# ax.plot(timestamps, channel_id, 'o')\n",
    "ax.set_xlim([0, Y.shape[0]])\n",
    "# ax.plot()\n",
    "\n",
    "fig = plt.figure()\n",
    "ax = fig.add_subplot(2,1,1)\n",
    "ax.set_xlim([0, Y.shape[0]])\n",
    "ax.plot(np.sum(Y, 1) / 400.0 * 20, 'r')\n",
    "ax = fig.add_subplot(2,1,2)\n",
    "ax.plot(np.sum(K, 0) / 1000.0 * 10 + 20, 'r')\n",
    "ax.set_xlim([0, Y.shape[0]])\n",
    "\n",
    "h5.close()"
   ]
  },
  {
   "cell_type": "code",
   "execution_count": null,
   "metadata": {},
   "outputs": [],
   "source": [
    "IDX = 388\n",
    "subset = 'test'\n",
    "\n",
    "h5file = '/Data/DATASETS/CAESAR_TIDIGITS/tidigits_log_mix.h5'\n",
    "\n",
    "h5 = tables.open_file(h5file, 'r')\n",
    "dataset = h5.get_node(os.path.join(os.sep, 'default', subset))\n",
    "\n",
    "channels = h5.list_nodes(os.path.join(os.sep, 'default', subset))\n",
    "\n",
    "print ALL_NAMES[subset][IDX]\n",
    "timestamps, addresses = es.loadaerdat(basedir + 'aedat/{}/'.format(subset) + ALL_NAMES[subset][IDX] + '.aedat')\n",
    "plt.plot(timestamps)"
   ]
  },
  {
   "cell_type": "markdown",
   "metadata": {
    "collapsed": true
   },
   "source": [
    "# Create dataset with alligned log/spikes"
   ]
  },
  {
   "cell_type": "code",
   "execution_count": null,
   "metadata": {
    "collapsed": true
   },
   "outputs": [],
   "source": [
    "all_log = {'train': [], 'test': []}\n",
    "all_spk = {'train': [], 'test': []}\n",
    "\n",
    "h5file = '/Data/DATASETS/CAESAR_TIDIGITS/tidigits_log_mix.h5'\n",
    "\n",
    "h5 = tables.open_file(h5file, 'r')\n",
    "\n",
    "channels = h5.list_nodes(os.path.join(os.sep, 'default', 'train'))\n",
    "\n",
    "for subset in ['train', 'test']:\n",
    "    print \"DOING {}\".format(subset)\n",
    "    channels = h5.list_nodes(os.path.join(os.sep, 'default', subset))\n",
    "    \n",
    "    for IDX in tqdm(range(len(ALL_NAMES[subset]))):\n",
    "        timestamps, addresses = es.loadaerdat(basedir + 'aedat/{}/'.format(subset) + ALL_NAMES[subset][IDX] + '.aedat')\n",
    "        timestamps, addresses = remove_trigger(timestamps, addresses)\n",
    "\n",
    "        timestamps, channel_id, ear_id, neuron_id, filterbank_id = es.decode_ams1c(timestamps, addresses, return_type=False)\n",
    "\n",
    "        Y = np.reshape(channels[0].features[IDX], channels[0].feature_shape[IDX])[:, :41]\n",
    "\n",
    "        K = spike_features(timestamps, channel_id)[2:]\n",
    "\n",
    "        env_log = np.sum(Y, 1)\n",
    "        env_sps = np.sum(K, 0)\n",
    "\n",
    "        k = np.correlate(env_log, env_sps, 'full')\n",
    "\n",
    "        shift = np.argmax(np.abs(k)) - len(env_sps)\n",
    "\n",
    "        K = K[:, np.abs(shift):]\n",
    "        K = K[:, :Y.shape[0]]\n",
    "        Y = Y.T\n",
    "\n",
    "        if K.shape[1] != Y.shape[1]:\n",
    "            print K.shape\n",
    "            print Y.shape\n",
    "            raise ValueError()\n",
    "        all_log[subset].append(Y)\n",
    "        all_spk[subset].append(K)\n",
    "\n",
    "\n",
    "h5.close()"
   ]
  },
  {
   "cell_type": "code",
   "execution_count": null,
   "metadata": {
    "collapsed": true
   },
   "outputs": [],
   "source": [
    "fig = plt.figure(figsize=(10, 5))\n",
    "ax = fig.add_subplot(2,2,1)\n",
    "ax.imshow(all_spk['train'][3], aspect='auto')\n",
    "ax = fig.add_subplot(2,2,3)\n",
    "ax.imshow(all_log['train'][3], aspect='auto')\n",
    "ax = fig.add_subplot(2,2,2)\n",
    "ax.imshow(all_spk['test'][3], aspect='auto')\n",
    "ax = fig.add_subplot(2,2,4)\n",
    "ax.imshow(all_log['test'][3], aspect='auto')"
   ]
  },
  {
   "cell_type": "code",
   "execution_count": null,
   "metadata": {
    "collapsed": true
   },
   "outputs": [],
   "source": [
    "pkl.dump({'log': all_log['train'], 'spk': all_spk['train']}, open('all_log_spk_train.pkl', 'w'))\n",
    "pkl.dump({'log': all_log['test'], 'spk': all_spk['test']}, open('all_log_spk_test.pkl', 'w'))"
   ]
  },
  {
   "cell_type": "markdown",
   "metadata": {},
   "source": [
    "# Load data and train reconstruction model (MLP) "
   ]
  },
  {
   "cell_type": "code",
   "execution_count": 5,
   "metadata": {},
   "outputs": [
    {
     "name": "stdout",
     "output_type": "stream",
     "text": [
      "TRAIN:\n",
      "\tMIX LOG => 5999\n",
      "\tMIX SPK => 5999\n",
      "TEST:\n",
      "\tMIX LOG => 1999\n",
      "\tSPK LOG => 1999\n",
      "TRAIN:\n",
      "\tSEP LOG => 11998\n",
      "\tSEP SPK => 11998\n",
      "TEST:\n",
      "\tSEP LOG => 3998\n",
      "\tSEP SPK => 3998\n"
     ]
    }
   ],
   "source": [
    "print \"TRAIN:\"\n",
    "all_mix_log = pkl.load(open('all_log_spk_train.pkl', 'r'))['log']\n",
    "print \"\\tMIX LOG => {}\".format(len(all_mix_log))\n",
    "all_mix_spk = pkl.load(open('all_log_spk_train.pkl', 'r'))['spk']\n",
    "print \"\\tMIX SPK => {}\".format(len(all_mix_spk))\n",
    "print \"TEST:\"\n",
    "all_mix_log_test = pkl.load(open('all_log_spk_test.pkl', 'r'))['log']\n",
    "print \"\\tMIX LOG => {}\".format(len(all_mix_log_test))\n",
    "all_mix_spk_test = pkl.load(open('all_log_spk_test.pkl', 'r'))['spk']\n",
    "print \"\\tSPK LOG => {}\".format(len(all_mix_spk_test))\n",
    "\n",
    "# I also use the samples from spk_sep train\n",
    "print \"TRAIN:\"\n",
    "all_sep_log = pkl.load(open('all_sep_spk_train.pkl', 'r'))['log']\n",
    "print \"\\tSEP LOG => {}\".format(len(all_sep_log))\n",
    "all_sep_spk = pkl.load(open('all_sep_spk_train.pkl', 'r'))['spk']\n",
    "print \"\\tSEP SPK => {}\".format(len(all_sep_spk))\n",
    "print \"TEST:\"\n",
    "all_sep_log_test = pkl.load(open('all_sep_spk_test.pkl', 'r'))['log']\n",
    "print \"\\tSEP LOG => {}\".format(len(all_sep_log_test))\n",
    "all_sep_spk_test = pkl.load(open('all_sep_spk_test.pkl', 'r'))['spk']\n",
    "print \"\\tSEP SPK => {}\".format(len(all_sep_spk_test))"
   ]
  },
  {
   "cell_type": "code",
   "execution_count": 6,
   "metadata": {},
   "outputs": [
    {
     "name": "stdout",
     "output_type": "stream",
     "text": [
      "(41, 511147)\n",
      "(62, 511147)\n",
      "(41, 168602)\n",
      "(62, 168602)\n"
     ]
    }
   ],
   "source": [
    "# to train I use the all mix plus the separated train\n",
    "# all_x_train = all_mix_spk + all_mix_spk_test + all_sep_spk\n",
    "# all_y_train = all_mix_log + all_mix_log_test + all_sep_log\n",
    "# or only the separated one\n",
    "all_x_train = all_sep_spk\n",
    "all_y_train = all_sep_log\n",
    "\n",
    "Y_train = np.concatenate(all_y_train, 1)\n",
    "print Y_train.shape\n",
    "X_train = np.concatenate(all_x_train, 1)\n",
    "print X_train.shape\n",
    "\n",
    "Y_test = np.concatenate(all_sep_log_test, 1)\n",
    "print Y_test.shape\n",
    "X_test = np.concatenate(all_sep_spk_test, 1)\n",
    "print X_test.shape"
   ]
  },
  {
   "cell_type": "code",
   "execution_count": 7,
   "metadata": {},
   "outputs": [
    {
     "name": "stdout",
     "output_type": "stream",
     "text": [
      "(511126, 930)\n",
      "(511126, 41)\n",
      "(168581, 930)\n",
      "(168581, 41)\n"
     ]
    }
   ],
   "source": [
    "ctx = 7\n",
    "shift = 1\n",
    "X_train, Y_train = get_ctx_win(X_train, Y_train, ctx=ctx, shift=shift)\n",
    "print X_train.shape\n",
    "print Y_train.shape\n",
    "\n",
    "X_test, Y_test = get_ctx_win(X_test, Y_test, ctx=ctx, shift=shift)\n",
    "print X_test.shape \n",
    "print Y_test.shape"
   ]
  },
  {
   "cell_type": "markdown",
   "metadata": {},
   "source": [
    "# Keras Regression"
   ]
  },
  {
   "cell_type": "code",
   "execution_count": 38,
   "metadata": {},
   "outputs": [
    {
     "name": "stdout",
     "output_type": "stream",
     "text": [
      "_________________________________________________________________\n",
      "Layer (type)                 Output Shape              Param #   \n",
      "=================================================================\n",
      "dense_11 (Dense)             (None, 512)               476672    \n",
      "_________________________________________________________________\n",
      "dropout_7 (Dropout)          (None, 512)               0         \n",
      "_________________________________________________________________\n",
      "dense_12 (Dense)             (None, 512)               262656    \n",
      "_________________________________________________________________\n",
      "dropout_8 (Dropout)          (None, 512)               0         \n",
      "_________________________________________________________________\n",
      "dense_13 (Dense)             (None, 512)               262656    \n",
      "_________________________________________________________________\n",
      "dropout_9 (Dropout)          (None, 512)               0         \n",
      "_________________________________________________________________\n",
      "dense_14 (Dense)             (None, 512)               262656    \n",
      "_________________________________________________________________\n",
      "dense_15 (Dense)             (None, 41)                21033     \n",
      "=================================================================\n",
      "Total params: 1,285,673\n",
      "Trainable params: 1,285,673\n",
      "Non-trainable params: 0\n",
      "_________________________________________________________________\n"
     ]
    }
   ],
   "source": [
    "import keras\n",
    "from keras.layers import Dense, Dropout\n",
    "\n",
    "model = keras.Sequential()\n",
    "model.add(Dense(512, input_shape=(X_train.shape[1],), activation='relu'))\n",
    "model.add(Dropout(0.3))\n",
    "model.add(Dense(512, activation='relu'))\n",
    "model.add(Dropout(0.3))\n",
    "model.add(Dense(512, activation='relu'))\n",
    "model.add(Dropout(0.3))\n",
    "model.add(Dense(512, activation='relu'))\n",
    "# model.add(Dropout(0.3))\n",
    "model.add(Dense(41, activation='relu'))\n",
    "\n",
    "model.compile(optimizer='adam', loss='mse')\n",
    "\n",
    "model.summary()"
   ]
  },
  {
   "cell_type": "code",
   "execution_count": 39,
   "metadata": {},
   "outputs": [
    {
     "name": "stdout",
     "output_type": "stream",
     "text": [
      "Train on 511126 samples, validate on 168581 samples\n",
      "Epoch 1/100\n",
      "511126/511126 [==============================] - 7s 14us/step - loss: 25.4796 - val_loss: 46.0280\n",
      "Epoch 2/100\n",
      "511126/511126 [==============================] - 6s 12us/step - loss: 19.4608 - val_loss: 49.8623\n",
      "Epoch 3/100\n",
      "511126/511126 [==============================] - 6s 12us/step - loss: 18.7820 - val_loss: 36.5379\n",
      "Epoch 4/100\n",
      "511126/511126 [==============================] - 6s 13us/step - loss: 11.4703 - val_loss: 10.7408\n",
      "Epoch 5/100\n",
      "511126/511126 [==============================] - 7s 13us/step - loss: 9.6076 - val_loss: 10.1258\n",
      "Epoch 6/100\n",
      "511126/511126 [==============================] - 6s 12us/step - loss: 9.4939 - val_loss: 9.6815\n",
      "Epoch 7/100\n",
      "511126/511126 [==============================] - 6s 12us/step - loss: 9.3907 - val_loss: 9.2368\n",
      "Epoch 8/100\n",
      "511126/511126 [==============================] - 7s 13us/step - loss: 9.3224 - val_loss: 9.5446\n",
      "Epoch 9/100\n",
      "511126/511126 [==============================] - 6s 12us/step - loss: 9.2544 - val_loss: 9.1470\n",
      "Epoch 10/100\n",
      "511126/511126 [==============================] - 6s 12us/step - loss: 9.1825 - val_loss: 9.0907\n",
      "Epoch 11/100\n",
      "511126/511126 [==============================] - 7s 13us/step - loss: 9.1441 - val_loss: 9.2018\n",
      "Epoch 12/100\n",
      "511126/511126 [==============================] - 6s 12us/step - loss: 9.0995 - val_loss: 9.0203\n",
      "Epoch 13/100\n",
      "511126/511126 [==============================] - 6s 12us/step - loss: 9.0286 - val_loss: 9.5209\n",
      "Epoch 14/100\n",
      "511126/511126 [==============================] - 7s 13us/step - loss: 8.9854 - val_loss: 9.0675\n",
      "Epoch 15/100\n",
      "511126/511126 [==============================] - 6s 12us/step - loss: 8.9428 - val_loss: 8.9170\n",
      "Epoch 16/100\n",
      "511126/511126 [==============================] - 7s 13us/step - loss: 8.9418 - val_loss: 9.5547\n",
      "Epoch 17/100\n",
      "511126/511126 [==============================] - 6s 12us/step - loss: 8.9291 - val_loss: 8.9729\n",
      "Epoch 18/100\n",
      "511126/511126 [==============================] - 6s 12us/step - loss: 8.9006 - val_loss: 9.2135\n",
      "Epoch 19/100\n",
      "511126/511126 [==============================] - 6s 13us/step - loss: 8.8933 - val_loss: 8.8884\n",
      "Epoch 20/100\n",
      "511126/511126 [==============================] - 6s 12us/step - loss: 8.8660 - val_loss: 8.8000\n",
      "Epoch 21/100\n",
      "511126/511126 [==============================] - 6s 12us/step - loss: 8.8904 - val_loss: 8.9102\n",
      "Epoch 22/100\n",
      "511126/511126 [==============================] - 6s 12us/step - loss: 8.8562 - val_loss: 8.9765\n",
      "Epoch 23/100\n",
      "511126/511126 [==============================] - 6s 12us/step - loss: 8.8339 - val_loss: 8.6992\n",
      "Epoch 24/100\n",
      "511126/511126 [==============================] - 6s 12us/step - loss: 8.8289 - val_loss: 9.1028\n",
      "Epoch 25/100\n",
      "511126/511126 [==============================] - 6s 12us/step - loss: 8.8171 - val_loss: 8.7514\n",
      "Epoch 26/100\n",
      "511126/511126 [==============================] - 6s 12us/step - loss: 8.8086 - val_loss: 8.8073\n",
      "Epoch 27/100\n",
      "511126/511126 [==============================] - 7s 13us/step - loss: 8.8135 - val_loss: 8.7777\n",
      "Epoch 28/100\n",
      "511126/511126 [==============================] - 6s 12us/step - loss: 8.7812 - val_loss: 9.0806\n"
     ]
    },
    {
     "data": {
      "text/plain": [
       "<keras.callbacks.History at 0x7fe38497b450>"
      ]
     },
     "execution_count": 39,
     "metadata": {},
     "output_type": "execute_result"
    }
   ],
   "source": [
    "es = keras.callbacks.EarlyStopping(monitor='val_loss', patience=5)\n",
    "mc = keras.callbacks.ModelCheckpoint('./spk2log_only_sep.h5', monitor='val_loss', save_best_only=True)\n",
    "_ = model.fit(X_train, Y_train, validation_data=(X_test, Y_test), epochs=100, verbose=True, batch_size=1024, callbacks=[es, mc])"
   ]
  },
  {
   "cell_type": "code",
   "execution_count": 8,
   "metadata": {
    "collapsed": true
   },
   "outputs": [],
   "source": [
    "# load model\n",
    "model = load_model('spk2log_only_sep.h5')"
   ]
  },
  {
   "cell_type": "code",
   "execution_count": 9,
   "metadata": {},
   "outputs": [
    {
     "data": {
      "text/plain": [
       "<matplotlib.image.AxesImage at 0x7ff0b18db210>"
      ]
     },
     "execution_count": 9,
     "metadata": {},
     "output_type": "execute_result"
    },
    {
     "data": {
      "image/png": "[encoded data removed]",
      "text/plain": [
       "<matplotlib.figure.Figure at 0x7ff0b19d2fd0>"
      ]
     },
     "metadata": {},
     "output_type": "display_data"
    }
   ],
   "source": [
    "# visually, train vs test\n",
    "f, ax = plt.subplots(2, 2, figsize=(20,10))\n",
    "Y_pred_train = model.predict(X_train)\n",
    "Y_pred_test = model.predict(X_test)\n",
    "\n",
    "ax[0][0].imshow(Y_test.T[:, 1000:1200], aspect='auto')\n",
    "ax[1][0].imshow(Y_pred_test.T[:, 1000:1200], aspect='auto')\n",
    "\n",
    "ax[0][1].imshow(Y_train.T[:, 1000:1200], aspect='auto')\n",
    "ax[1][1].imshow(Y_pred_train.T[:, 1000:1200], aspect='auto')"
   ]
  },
  {
   "cell_type": "markdown",
   "metadata": {},
   "source": [
    "# SKLEARN Regression"
   ]
  },
  {
   "cell_type": "code",
   "execution_count": null,
   "metadata": {},
   "outputs": [],
   "source": [
    "lr = MLPRegressor(hidden_layer_sizes=(256, 256), verbose=True, early_stopping=True)\n",
    "lr.fit(X_train, Y_train)\n",
    "\n",
    "Y_pred = lr.predict(X_test)"
   ]
  },
  {
   "cell_type": "code",
   "execution_count": null,
   "metadata": {
    "collapsed": true
   },
   "outputs": [],
   "source": [
    "# pkl.dump(lr, open('mlp_256_256_spk2log.pkl', 'wb'))\n",
    "lr = pkl.load(open('mlp_256_256_spk2log.pkl', 'r')) "
   ]
  },
  {
   "cell_type": "code",
   "execution_count": null,
   "metadata": {
    "collapsed": true
   },
   "outputs": [],
   "source": [
    "Y_pred_train = lr.predict(X_train)\n",
    "fig = plt.figure(figsize=(20,10))\n",
    "ax = fig.add_subplot(2,1,1)\n",
    "ax.imshow(Y_train.T[:, 1000:1200], aspect='auto')\n",
    "ax = fig.add_subplot(2,1,2)\n",
    "ax.imshow(Y_pred_train.T[:, 1000:1200], aspect='auto')"
   ]
  },
  {
   "cell_type": "code",
   "execution_count": null,
   "metadata": {
    "collapsed": true
   },
   "outputs": [],
   "source": [
    "Y_pred = lr.predict(X_test)\n",
    "fig = plt.figure(figsize=(20,10))\n",
    "ax = fig.add_subplot(2,1,1)\n",
    "ax.imshow(Y_test.T[:, 1000:1200], aspect='auto')\n",
    "ax = fig.add_subplot(2,1,2)\n",
    "ax.imshow(Y_pred.T[:, 1000:1200], aspect='auto')"
   ]
  },
  {
   "cell_type": "markdown",
   "metadata": {},
   "source": [
    "# Single Sample"
   ]
  },
  {
   "cell_type": "code",
   "execution_count": null,
   "metadata": {},
   "outputs": [],
   "source": [
    "# single sample \n",
    "regressor = model # lr\n",
    "IDX = 1002\n",
    "ctx = 3\n",
    "shift = 1\n",
    "\n",
    "ex_x = all_sep_spk_test[IDX]\n",
    "ex_y = all_sep_log_test[IDX]\n",
    "\n",
    "n_win = (ex_x.shape[1] - ctx * 2) // shift\n",
    "\n",
    "ex_x, ex_y = get_ctx_win(ex_x, ex_y, ctx=ctx, shift=shift)\n",
    "# print ex_x.shape \n",
    "# print ex_y.shape\n",
    "\n",
    "ex_pred = regressor.predict(ex_x)\n",
    "\n",
    "fig = plt.figure(figsize=(20,10))\n",
    "ax = fig.add_subplot(3,1,1)\n",
    "ax.imshow(ex_y.T, aspect='auto')\n",
    "ax = fig.add_subplot(3,1,2)\n",
    "ax.imshow(ex_pred.T, aspect='auto')\n",
    "ax = fig.add_subplot(3,1,3)\n",
    "d1 = np.diff(ex_pred, axis=1)\n",
    "d2 = np.diff(d1, axis=1)\n",
    "print ex_pred[:, 2:].shape\n",
    "print d1[:, 1:].shape\n",
    "print d2.shape\n",
    "deltas = np.concatenate([ex_pred[:, 2:], d1[:, 1:], d2], axis=1)\n",
    "print deltas.shape\n",
    "ax.imshow(deltas.T, aspect='auto')\n"
   ]
  },
  {
   "cell_type": "markdown",
   "metadata": {},
   "source": [
    "## Project all dataset"
   ]
  },
  {
   "cell_type": "code",
   "execution_count": 19,
   "metadata": {},
   "outputs": [
    {
     "name": "stderr",
     "output_type": "stream",
     "text": [
      "100%|██████████| 11998/11998 [00:21<00:00, 554.11it/s]\n",
      "100%|██████████| 3998/3998 [00:07<00:00, 508.83it/s]"
     ]
    },
    {
     "name": "stdout",
     "output_type": "stream",
     "text": [
      "11998\n",
      "11998\n",
      "3998\n",
      "3998\n"
     ]
    },
    {
     "name": "stderr",
     "output_type": "stream",
     "text": [
      "\n"
     ]
    }
   ],
   "source": [
    "# single sample \n",
    "regressor = model # lr\n",
    "ctx = 3\n",
    "shift = 1\n",
    "\n",
    "all_y = {'train': [], 'test': []}\n",
    "all_lbl = {'train': pkl.load(open('all_sep_spk_train.pkl', 'r'))['lbl'], 'test': pkl.load(open('all_sep_spk_test.pkl', 'r'))['lbl']} \n",
    "\n",
    "for task, x, y in zip(['train', 'test'], [all_sep_spk, all_sep_spk_test], [all_sep_log, all_sep_log_test]): \n",
    "    for ex_x, ex_y in tqdm(zip(x, y)):\n",
    "        ex_x, ex_y = get_ctx_win(ex_x, ex_y, ctx=ctx, shift=shift)\n",
    "\n",
    "        ex_pred = regressor.predict(ex_x)\n",
    "        all_y[task].append(ex_pred.T)\n",
    "\n",
    "print len(all_y['train'])\n",
    "print len(all_lbl['train'])\n",
    "print len(all_y['test'])\n",
    "print len(all_lbl['test'])"
   ]
  },
  {
   "cell_type": "code",
   "execution_count": 20,
   "metadata": {},
   "outputs": [
    {
     "data": {
      "text/plain": [
       "<matplotlib.image.AxesImage at 0x7fe3b8b6e7d0>"
      ]
     },
     "execution_count": 20,
     "metadata": {},
     "output_type": "execute_result"
    },
    {
     "data": {
      "image/png": "[encoded data removed]",
      "text/plain": [
       "<matplotlib.figure.Figure at 0x7fe39c6f6210>"
      ]
     },
     "metadata": {},
     "output_type": "display_data"
    }
   ],
   "source": [
    "# double check\n",
    "IDX = 1002\n",
    "f, ax = plt.subplots(2,2)\n",
    "ax[0][0].imshow(all_y['train'][IDX], aspect='auto')\n",
    "ax[1][0].imshow(all_sep_log[IDX], aspect='auto')\n",
    "ax[0][1].imshow(all_y['test'][IDX], aspect='auto')\n",
    "ax[1][1].imshow(all_sep_log_test[IDX], aspect='auto')"
   ]
  },
  {
   "cell_type": "code",
   "execution_count": 21,
   "metadata": {
    "collapsed": true
   },
   "outputs": [],
   "source": [
    "# save it\n",
    "pkl.dump({'spk': all_y['train'], 'lbl': all_lbl['train']}, open('all_log_prj_train.pkl', 'w'))\n",
    "pkl.dump({'spk': all_y['test'], 'lbl': all_lbl['test']}, open('all_log_prj_test.pkl', 'w'))"
   ]
  },
  {
   "cell_type": "markdown",
   "metadata": {},
   "source": [
    "## Check what kind of error distribution there is in reconstruction"
   ]
  },
  {
   "cell_type": "code",
   "execution_count": 20,
   "metadata": {},
   "outputs": [
    {
     "name": "stdout",
     "output_type": "stream",
     "text": [
      "(20956166,)\n"
     ]
    }
   ],
   "source": [
    "regressor = model\n",
    "\n",
    "# Y_pred = regressor.predict(X_test)\n",
    "Q_test = (Y_pred_test - Y_test).reshape(-1)\n",
    "\n",
    "# Y_pred_train = regressor.predict(X_train)\n",
    "Q_train = (Y_pred_train - Y_train).reshape(-1)\n",
    "\n",
    "print Q_train.shape"
   ]
  },
  {
   "cell_type": "code",
   "execution_count": 25,
   "metadata": {},
   "outputs": [
    {
     "data": {
      "text/plain": [
       "<matplotlib.legend.Legend at 0x7fed9ed0c790>"
      ]
     },
     "execution_count": 25,
     "metadata": {},
     "output_type": "execute_result"
    },
    {
     "data": {
      "image/png": "[encoded data removed]",
      "text/plain": [
       "<matplotlib.figure.Figure at 0x7fed9eef6710>"
      ]
     },
     "metadata": {},
     "output_type": "display_data"
    }
   ],
   "source": [
    "f, ax = plt.subplots(1, 2)\n",
    "# test error distribution\n",
    "\n",
    "a = ax[0].hist(Q_train, 100, normed=True)\n",
    "xt = a[1]  \n",
    "xmin, xmax = min(xt), max(xt)  \n",
    "lnspc = np.linspace(xmin, xmax, len(Q_train))\n",
    "\n",
    "# gaussian\n",
    "an, bn = stats.norm.fit(Q_train)  \n",
    "pdf_norm = stats.norm.pdf(lnspc, an, bn)  \n",
    "ax[0].plot(lnspc, pdf_norm, label=\"Gaussian\")\n",
    "\n",
    "# laplace\n",
    "al, bl = stats.laplace.fit(Q_train)  \n",
    "pdf_laplace = stats.laplace.pdf(lnspc, al, bl)  \n",
    "ax[0].plot(lnspc, pdf_laplace, label=\"Laplace\")\n",
    "\n",
    "# gamma\n",
    "ag, bg, cg = stats.gamma.fit(Q_train)  \n",
    "pdf_gamma = stats.gamma.pdf(lnspc, ag, bg, cg)  \n",
    "ax[0].plot(lnspc, pdf_gamma, label=\"Gamma\")\n",
    "\n",
    "ax[0].legend()\n",
    "\n",
    "a = ax[1].hist(Q_test, 100, normed=True)\n",
    "xt = a[1]  \n",
    "xmin, xmax = min(xt), max(xt)  \n",
    "lnspc = np.linspace(xmin, xmax, len(Q_test))\n",
    "\n",
    "# gaussian\n",
    "an, bn = stats.norm.fit(Q_test)  \n",
    "pdf_norm = stats.norm.pdf(lnspc, an, bn)  \n",
    "ax[1].plot(lnspc, pdf_norm, label=\"Gaussian\")\n",
    "\n",
    "# laplace\n",
    "al, bl = stats.laplace.fit(Q_test)  \n",
    "pdf_laplace = stats.laplace.pdf(lnspc, al, bl)  \n",
    "ax[1].plot(lnspc, pdf_laplace, label=\"Laplace\")\n",
    "\n",
    "# laplace\n",
    "ag, bg, cg = stats.gamma.fit(Q_test)  \n",
    "pdf_gamma = stats.gamma.pdf(lnspc, ag, bg, cg)  \n",
    "ax[1].plot(lnspc, pdf_gamma, label=\"Gamma\")\n",
    "\n",
    "ax[1].legend()"
   ]
  },
  {
   "cell_type": "code",
   "execution_count": 46,
   "metadata": {},
   "outputs": [
    {
     "name": "stdout",
     "output_type": "stream",
     "text": [
      "-0.18644778\n",
      "2.9435349\n"
     ]
    },
    {
     "data": {
      "image/png": "[encoded data removed]",
      "text/plain": [
       "<matplotlib.figure.Figure at 0x7fec97470c90>"
      ]
     },
     "metadata": {},
     "output_type": "display_data"
    }
   ],
   "source": [
    "mu, sigma = stats.norm.fit(Q_test)  \n",
    "pdf_norm = stats.norm.pdf(lnspc, mu, sigma)  \n",
    "plt.plot(lnspc, pdf_norm, label=\"Gaussian\")\n",
    "\n",
    "y = np.random.normal(size=100000) * sigma + mu\n",
    "_ = plt.hist(y, 100, normed=True, label='numpy', alpha=0.5)\n",
    "\n",
    "print mu\n",
    "print sigma"
   ]
  },
  {
   "cell_type": "code",
   "execution_count": 42,
   "metadata": {},
   "outputs": [
    {
     "data": {
      "text/plain": [
       "[<matplotlib.lines.Line2D at 0x7fe3b6639d50>]"
      ]
     },
     "execution_count": 42,
     "metadata": {},
     "output_type": "execute_result"
    },
    {
     "data": {
      "image/png": "[encoded data removed]",
      "text/plain": [
       "<matplotlib.figure.Figure at 0x7fe3b66a7f10>"
      ]
     },
     "metadata": {},
     "output_type": "display_data"
    }
   ],
   "source": [
    "# plot normed histogram\n",
    "plt.hist(Q.reshape(-1), 100, normed=True)\n",
    "\n",
    "# find minimum and maximum of xticks, so we know\n",
    "# where we should compute theoretical distribution\n",
    "xt = plt.xticks()[0]  \n",
    "xmin, xmax = min(xt), max(xt)  \n",
    "lnspc = np.linspace(xmin, xmax, len(Q.reshape(-1)))\n",
    "# exactly same as above\n",
    "ag,bg = stats.laplace.fit(Q.reshape(-1))  \n",
    "pdf_laplace = stats.laplace.pdf(lnspc, ag, bg)  \n",
    "plt.plot(lnspc, pdf_laplace, label=\"Laplace\")\n"
   ]
  },
  {
   "cell_type": "markdown",
   "metadata": {},
   "source": [
    "# Single separation and reconstrucion"
   ]
  },
  {
   "cell_type": "code",
   "execution_count": null,
   "metadata": {
    "collapsed": true
   },
   "outputs": [],
   "source": [
    "IDX = 100\n",
    "ctx = 5\n",
    "shift = 1\n",
    "\n",
    "T, C, w1, w2, fs, _ = sps(basedir + 'aedat/train/' + all_train[IDX] + '.aedat', sigma=5)\n",
    "\n",
    "spkf1 = spike_features(T[0], C[0])[2:]\n",
    "spkf2 = spike_features(T[1], C[1])[2:]\n",
    "\n",
    "ex_x = spkf1[::-1]\n",
    "ex_y = w1\n",
    "\n",
    "n_win = (ex_x.shape[1] - ctx * 2) // shift\n",
    "\n",
    "ex_x = np.array([ex_x[:, i - ctx:i + ctx + 1].reshape(-1,) for i in range(ctx, n_win * shift, shift)])\n",
    "print ex_x.shape \n",
    "ex_y = ex_y[:, ctx + 1:-(ctx * 2 - 1)].T\n",
    "print ex_y.shape\n",
    "\n",
    "\n",
    "ex_pred = lr.predict(ex_x)\n",
    "\n",
    "fig = plt.figure(figsize=(20,10))\n",
    "ax = fig.add_subplot(2,1,1)\n",
    "ax.imshow(ex_y.T, aspect='auto')\n",
    "ax = fig.add_subplot(2,1,2)\n",
    "ax.imshow(ex_pred.T, aspect='auto')\n"
   ]
  },
  {
   "cell_type": "markdown",
   "metadata": {},
   "source": [
    "# Process SPS and save"
   ]
  },
  {
   "cell_type": "code",
   "execution_count": null,
   "metadata": {},
   "outputs": [],
   "source": [
    "all_sep_spk = {'train': [], 'test': []}\n",
    "all_sep_log = {'train': [], 'test': []}\n",
    "all_label = {'train': [], 'test': []}\n",
    "\n",
    "h5file = '/Data/DATASETS/CAESAR_TIDIGITS/tidigits_log_sep.h5'\n",
    "\n",
    "h5 = tables.open_file(h5file, 'r')\n",
    "\n",
    "for subset in ['train', 'test']:\n",
    "    \n",
    "    channels = h5.list_nodes(os.path.join(os.sep, 'default', subset))\n",
    "    \n",
    "    for IDX in tqdm(range(len(ALL_NAMES[subset]))):\n",
    "        T, C, w1, w2, fs, _, pos = sps(IDX, subset, sigma=180)\n",
    "        \n",
    "        _, utt1, utt2 = re.compile('[A-Z]+').split(ALL_NAMES[subset][IDX])\n",
    "        all_label[subset].append(utt1)\n",
    "        all_label[subset].append(utt2)\n",
    "        \n",
    "        for i, idx in enumerate([IDX * 2, IDX * 2 + 1]):\n",
    "            \n",
    "            K = spike_features(T[i], C[i])[2:]\n",
    "            Y = np.reshape(channels[0].features[idx], channels[0].feature_shape[idx])[:, :41].T\n",
    "            \n",
    "            env_log = np.sum(Y, 0)\n",
    "            env_sps = np.sum(K, 0)\n",
    "\n",
    "            k = np.correlate(env_log, env_sps, 'full')\n",
    "            shift = np.argmax(np.abs(k)) - len(env_sps)\n",
    "\n",
    "            K = K[:, np.abs(shift):]\n",
    "            K = K[:, :Y.shape[1]]\n",
    "            \n",
    "            all_sep_spk[subset].append(K)\n",
    "            all_sep_log[subset].append(Y)\n",
    "\n"
   ]
  },
  {
   "cell_type": "code",
   "execution_count": null,
   "metadata": {
    "collapsed": true
   },
   "outputs": [],
   "source": [
    "pkl.dump({'log': all_sep_log['train'], 'spk': all_sep_spk['train'], 'lbl': all_label['train']}, open('all_sep_spk_train.pkl', 'w'))\n",
    "pkl.dump({'log': all_sep_log['test'], 'spk': all_sep_spk['test'], 'lbl': all_label['test']}, open('all_sep_spk_test.pkl', 'w'))"
   ]
  },
  {
   "cell_type": "code",
   "execution_count": null,
   "metadata": {
    "collapsed": true
   },
   "outputs": [],
   "source": [
    "subset = 'test'\n",
    "IDX = 3\n",
    "f, ax = plt.subplots(2, 2)\n",
    "\n",
    "ax[0][0].imshow(all_sep_spk[subset][IDX * 2], aspect='auto')\n",
    "ax[1][0].imshow(all_sep_log[subset][IDX * 2], aspect='auto')\n",
    "ax[0][1].imshow(all_sep_spk[subset][IDX * 2 + 1], aspect='auto')\n",
    "ax[1][1].imshow(all_sep_log[subset][IDX * 2 + 1], aspect='auto')\n",
    "    \n"
   ]
  },
  {
   "cell_type": "code",
   "execution_count": null,
   "metadata": {},
   "outputs": [],
   "source": [
    "fixer = []\n",
    "IDX = 388\n",
    "subset = 'test'\n",
    "\n",
    "h5file = '/Data/DATASETS/CAESAR_TIDIGITS/tidigits_log_sep.h5'\n",
    "\n",
    "h5 = tables.open_file(h5file, 'r')\n",
    "\n",
    "channels = h5.list_nodes(os.path.join(os.sep, 'default', subset))\n",
    "\n",
    "f, ax = plt.subplots(2, 2, figsize=(10,5))\n",
    "T, C, w1, w2, fs, _, pos = sps(IDX, subset, sigma=180)\n",
    "        \n",
    "_, utt1, utt2 = re.compile('[A-Z]+').split(ALL_NAMES[subset][IDX])\n",
    "\n",
    "print utt1, utt2\n",
    "        \n",
    "for i, idx in enumerate([IDX * 2, IDX * 2 + 1]):\n",
    "\n",
    "    K = spike_features(T[i], C[i])[2:]\n",
    "    Y = np.reshape(channels[0].features[idx], channels[0].feature_shape[idx])[:, :41].T\n",
    "    \n",
    "    K = np.concatenate([np.zeros((62, 100)), K], 1)\n",
    "    print K.shape\n",
    "\n",
    "    env_log = np.sum(Y, 0)\n",
    "    env_sps = np.sum(K, 0)\n",
    "    \n",
    "    plt.figure()\n",
    "    plt.plot(env_log)\n",
    "    plt.plot(env_sps)\n",
    "\n",
    "    k = np.correlate(env_log, env_sps, 'full')\n",
    "    shift = np.argmax(np.abs(k)) - len(env_sps)\n",
    "    print shift\n",
    "    K = K[:, np.abs(shift):]\n",
    "    K = K[:, :Y.shape[1]]\n",
    "    \n",
    "    ax[0][i].imshow(K, aspect='auto')\n",
    "    ax[1][i].imshow(Y, aspect='auto')\n",
    "    fixer.append(K)"
   ]
  },
  {
   "cell_type": "code",
   "execution_count": null,
   "metadata": {
    "collapsed": true
   },
   "outputs": [],
   "source": [
    "all_sep_spk = {'train': []}\n",
    "all_sep_log = {'train': []}\n",
    "all_label = {'train': []}\n",
    "\n",
    "h5file = '/Data/DATASETS/CAESAR_TIDIGITS/tidigits_spk_sep.h5'\n",
    "h5 = tables.open_file(h5file, 'r')\n",
    "spk = h5.list_nodes(os.path.join(os.sep, 'default', 'train'))\n",
    "\n",
    "h5file2 = '/Data/DATASETS/CAESAR_TIDIGITS/tidigits_log_sep.h5'\n",
    "h52 = tables.open_file(h5file2, 'r')\n",
    "log = h52.list_nodes(os.path.join(os.sep, 'default', 'train'))\n",
    "\n",
    "for idx in range(len(ALL_NAMES['train'])):\n",
    "    _, utt1, utt2 = re.compile('[A-Z]+').split(ALL_NAMES['train'][idx])\n",
    "    all_label['train'].append(utt1)\n",
    "    all_label['train'].append(utt2)\n",
    "\n",
    "for idx in range(len(log[0].features)):\n",
    "\n",
    "    Y = np.reshape(spk[0].features[idx], spk[0].feature_shape[idx]).T\n",
    "    all_sep_spk['train'].append(Y)\n",
    "    \n",
    "    Y = np.reshape(log[0].features[idx], log[0].feature_shape[idx])[:, :41].T\n",
    "    all_sep_log['train'].append(Y)\n",
    "    "
   ]
  },
  {
   "cell_type": "code",
   "execution_count": null,
   "metadata": {},
   "outputs": [],
   "source": [
    "print len(all_sep_spk['train'])\n",
    "print len(all_sep_log['train'])\n",
    "print len(all_label['train'])"
   ]
  },
  {
   "cell_type": "code",
   "execution_count": null,
   "metadata": {
    "collapsed": true
   },
   "outputs": [],
   "source": [
    "pkl.dump({'log': all_sep_log['train'], 'spk': all_sep_spk['train'], 'lbl': all_label['train']}, open('all_sep_spk_train.pkl', 'w'))\n"
   ]
  },
  {
   "cell_type": "code",
   "execution_count": null,
   "metadata": {
    "collapsed": true
   },
   "outputs": [],
   "source": [
    "d_test = pkl.load(open('all_sep_spk_test.pkl', 'r'))\n",
    "\n",
    "d_test['spk'][388 * 2] = fixer[0]\n",
    "d_test['spk'][388 * 2 + 1] = fixer[1]\n",
    "\n",
    "all_sep_spk = {'test': d_test['spk']}\n",
    "all_sep_log = {'test': d_test['log']}\n",
    "all_label = {'test': d_test['lbl']}\n",
    "pkl.dump({'log': all_sep_log['test'], 'spk': all_sep_spk['test'], 'lbl': all_label['test']}, open('all_sep_spk_test.pkl', 'w'))"
   ]
  },
  {
   "cell_type": "code",
   "execution_count": null,
   "metadata": {
    "collapsed": true
   },
   "outputs": [],
   "source": []
  },
  {
   "cell_type": "code",
   "execution_count": null,
   "metadata": {
    "collapsed": true
   },
   "outputs": [],
   "source": []
  }
 ],
 "metadata": {
  "kernelspec": {
   "display_name": "Python 2",
   "language": "python",
   "name": "python2"
  },
  "language_info": {
   "codemirror_mode": {
    "name": "ipython",
    "version": 2
   },
   "file_extension": ".py",
   "mimetype": "text/x-python",
   "name": "python",
   "nbconvert_exporter": "python",
   "pygments_lexer": "ipython2",
   "version": "2.7.11"
  }
 },
 "nbformat": 4,
 "nbformat_minor": 2
}
