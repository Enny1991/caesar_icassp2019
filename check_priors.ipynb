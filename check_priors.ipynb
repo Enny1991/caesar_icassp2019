{
 "cells": [
  {
   "cell_type": "code",
   "execution_count": 4,
   "metadata": {},
   "outputs": [],
   "source": [
    "import numpy as np\n",
    "from utils import es_utils as es\n",
    "from utils import itd_utils as itd\n",
    "from utils import prob_utils as prob\n",
    "\n",
    "import pickle as pkl\n",
    "\n",
    "import matplotlib.pyplot as plt\n",
    "%matplotlib inline\n",
    "\n",
    "from python_speech_features import logfbank\n",
    "\n",
    "from scipy.io import wavfile\n",
    "import re\n",
    "from scipy import stats\n",
    "from sklearn.mixture import GaussianMixture\n",
    "from scipy.stats import norm\n",
    "import gammamix\n",
    "import matplotlib.ticker as ticker\n",
    "\n",
    "from tqdm import tqdm"
   ]
  },
  {
   "cell_type": "code",
   "execution_count": 5,
   "metadata": {},
   "outputs": [],
   "source": [
    "plt.rcParams['text.usetex'] = True #Let TeX do the typsetting\n",
    "plt.rcParams['text.latex.preamble'] = [r'\\usepackage{xcolor}', r'\\usepackage{sansmath}', r'\\sansmath'] #Force sans-serif math mode (for axes labels)\n",
    "plt.rcParams['font.family'] = 'sans-serif' # ... for regular text\n",
    "plt.rcParams['font.sans-serif'] = 'Computer Modern Sans serif' # Choose a nice font here\n",
    "plt.rcParams['font.size'] = 18"
   ]
  },
  {
   "cell_type": "code",
   "execution_count": 6,
   "metadata": {},
   "outputs": [],
   "source": [
    "basedir = '/Data/DATASETS/CAESAR_TIDIGITS/'\n",
    "# basedir = '/home/enea/Downloads/ex_manual_itds/priors/'\n",
    "filename = basedir + 'priors/' + 'prior_long_hv_mf_90'\n",
    "imgs_folder = './imgs/'\n",
    "num_bins = 80\n",
    "max_itd = 800e-6\n",
    "num_channels = 64\n",
    "\n",
    "# load file\n",
    "timestamps, addresses = es.loadaerdat(filename + '.aedat')\n",
    "timestamps = timestamps[100000:]\n",
    "addresses = addresses[100000:]\n",
    "\n",
    "timestamps, channel_id, ear_id, neuron_id, filterbank_id = es.decode_ams1c(timestamps, addresses, return_type=False)\n",
    "w = channel_id == 24\n",
    "_itds, _ = itd.get_itds(timestamps[w], ear_id[w], neuron_id[w], save_to_file=None,\n",
    "                                 verbose=False, max_itd=max_itd)\n",
    "#remove trigger"
   ]
  },
  {
   "cell_type": "code",
   "execution_count": null,
   "metadata": {},
   "outputs": [],
   "source": [
    "a = plt.hist(_itds, 100)"
   ]
  },
  {
   "cell_type": "code",
   "execution_count": null,
   "metadata": {},
   "outputs": [],
   "source": [
    "a, b = 0, 1000\n",
    "plt.plot(timestamps[ear_id==0][a:b], channel_id[ear_id==0][a:b] % 64, '*')\n",
    "plt.plot(timestamps[ear_id==1][a:b], channel_id[ear_id==1][a:b] % 64, '*')"
   ]
  },
  {
   "cell_type": "code",
   "execution_count": null,
   "metadata": {},
   "outputs": [],
   "source": [
    "dict_c = {}"
   ]
  },
  {
   "cell_type": "code",
   "execution_count": null,
   "metadata": {},
   "outputs": [],
   "source": [
    "from scipy.stats import norm\n",
    "fig = plt.figure(figsize=(20,10))\n",
    "\n",
    "ax1 = plt.subplot2grid((2, 3), (0, 0), colspan=3)\n",
    "ax2 = plt.subplot2grid((2, 3), (1, 0))\n",
    "ax3 = plt.subplot2grid((2, 3), (1, 1))\n",
    "ax4 = plt.subplot2grid((2, 3), (1, 2))\n",
    "\n",
    "filename = basedir + 'priors/' + 'prior_long_hv_mf_{}'.format(90)\n",
    "\n",
    "timestamps, addresses = es.loadaerdat(filename + '.aedat')\n",
    "timestamps = timestamps[100000:]\n",
    "addresses = addresses[100000:]\n",
    "timestamps, channel_id, ear_id, neuron_id, filterbank_id = es.decode_ams1c(timestamps, addresses, return_type=False)\n",
    "\n",
    "for i in range(0,64):\n",
    "    w = channel_id == i\n",
    "    try:\n",
    "        _itds, _ = itd.get_itds(timestamps[w], ear_id[w], neuron_id[w], save_to_file=None,\n",
    "                                 verbose=False, max_itd=max_itd)\n",
    "        \n",
    "        mu, std = norm.fit(_itds)\n",
    "        if not np.isnan(mu):\n",
    "            print \"CH: {} => #EVS = {}\".format(i, len(_itds))\n",
    "            dict_c[i] = {'mu': mu, 'std':std}\n",
    "            print \"\\t {:.4} - {:.4}\".format(mu, std)\n",
    "            x = np.linspace(-max_itd, max_itd, 160)\n",
    "            p = norm.pdf(x, mu, std)\n",
    "            if i in [19, 24, 26]:\n",
    "                ax1.plot(x, p, '--', label=i, linewidth=4)\n",
    "#                 ax1.set_xticklabels([-1, -.8, .0, .8])\n",
    "#                 ax1.set_xticklabels([-1, -.8, -.6, -.4, -.2, .0, .2, .4, .6, .8])\n",
    "                if i == 19:\n",
    "                    ax2.hist(_itds, 40, normed=True, label='empirical', alpha = 0.5, color=plt.cm.tab10(0))\n",
    "                    ax2.plot(x, p, '--', label='fit', linewidth=4, c = plt.cm.tab10(0))\n",
    "#                     ax2.set_xticklabels([-1, -.8, -.6, -.4, -.2, .0, .2, .4, .6, .8])\n",
    "                if i == 24:\n",
    "                    ax3.hist(_itds, 40, normed=True, label='empirical', alpha = 0.5, color=plt.cm.tab10(1))\n",
    "                    ax3.plot(x, p, '--', label='fit', linewidth=4, c = plt.cm.tab10(1))\n",
    "#                     ax3.set_xticklabels([-1, -.8, -.6, -.4, -.2, .0, .2, .4, .6, .8])\n",
    "                if i == 26:\n",
    "                    ax4.hist(_itds, 40, normed=True, label='empirical', alpha = 0.5, color=plt.cm.tab10(2))\n",
    "                    ax4.plot(x, p, '--', label='fit', linewidth=4, c = plt.cm.tab10(2))\n",
    "#                     ax4.set_xticklabels([-1, -.8, -.6, -.4, -.2, .0, .2, .4, .6, .8])\n",
    "#             if not np.isnan(mu):\n",
    "#                 print \"CH: {:4} || MU: {:4} || SIGMA: {:4}\".format(i, mu, std)\n",
    "    except:\n",
    "        pass\n",
    "\n",
    "scale_x = 1e-6\n",
    "ticks_x = ticker.FuncFormatter(lambda x, pos: '{0:g}'.format(x/scale_x))\n",
    "\n",
    "title = ['Some delays', 'Channel 12', 'Channel 24', 'Channels 26']\n",
    "for ax, t in zip([ax1, ax2, ax3, ax4], title):\n",
    "    ax.legend()\n",
    "    ax.grid()\n",
    "    ax.set_title(t)\n",
    "    ax.set_xlabel('ITDs (us)')\n",
    "    ax.set_ylabel('Spike Count')\n",
    "    ax.xaxis.set_major_formatter(ticks_x)\n",
    "\n",
    "\n",
    "plt.tight_layout()\n",
    "plt.savefig(imgs_folder + 'example_correction.pdf', transparent=True)"
   ]
  },
  {
   "cell_type": "code",
   "execution_count": null,
   "metadata": {},
   "outputs": [],
   "source": [
    "timestamps, addresses = es.loadaerdat(filename + '.aedat')\n",
    "timestamps = timestamps[10000:]\n",
    "addresses = addresses[10000:]\n",
    "timestamps, channel_id, ear_id, neuron_id, filterbank_id = es.decode_ams1c(timestamps, addresses, return_type=False)\n",
    "plt.plot(timestamps, channel_id, 'o')"
   ]
  },
  {
   "cell_type": "code",
   "execution_count": null,
   "metadata": {},
   "outputs": [],
   "source": [
    "base = '/home/enea/Downloads/'\n",
    "filename = base + 'NT8202009JA409'\n",
    "    \n",
    "timestamps, addresses = es.loadaerdat(filename + '.aedat')\n",
    "timestamps = timestamps[10000:]\n",
    "addresses = addresses[10000:]\n",
    "timestamps, channel_id, ear_id, neuron_id, filterbank_id = es.decode_ams1c(timestamps, addresses, return_type=False)\n",
    "\n",
    "fig = plt.figure(figsize=(4,4))\n",
    "for i in [24]:\n",
    "    ax = fig.add_subplot(1,1,1)\n",
    "    \n",
    "    w = channel_id == i\n",
    "    try:\n",
    "        _itds, _ = itd.get_itds(timestamps[w], ear_id[w], neuron_id[w], save_to_file=None,\n",
    "                             verbose=False, max_itd=max_itd)\n",
    "        ax.plot(prob.get_priors(np.array([_itds]))[0], label=i)\n",
    "    except:\n",
    "        pass\n",
    "plt.legend()"
   ]
  },
  {
   "cell_type": "code",
   "execution_count": null,
   "metadata": {},
   "outputs": [],
   "source": [
    "relevant_channels = np.arange(10,40)\n",
    "# relevant_channels = np.array([19,24,26])\n",
    "r_ch = np.array([19])\n",
    "itd_streams = []\n",
    "itd_streams_only_mu = []\n",
    "itd_streams_no_corr = []\n",
    "itd_streams_no_corr_lim = []\n",
    "for i in tqdm(range(0, 190, 10)):\n",
    "# for i in tqdm([0, 90, 180]):\n",
    "\n",
    "    filename = basedir + 'priors/prior_long_hv_mf_{}'.format(i)\n",
    "\n",
    "    timestamps, addresses = es.loadaerdat(filename + '.aedat')\n",
    "    timestamps = timestamps[100000:]\n",
    "    addresses = addresses[100000:]\n",
    "    timestamps, channel_id, ear_id, neuron_id, filterbank_id = es.decode_ams1c(timestamps, addresses, return_type=False)\n",
    "\n",
    "    _ii = []\n",
    "    _ii_only_mu = []\n",
    "    _ii_no_corr = []\n",
    "    _ii_no_corr_lim = []\n",
    "    for kk in relevant_channels:\n",
    "        indices_channels = np.isin(channel_id, np.array([kk]))\n",
    "        if kk in dict_c:\n",
    "            try:\n",
    "                _itds, _ = itd.get_itds(timestamps[indices_channels], ear_id[indices_channels], neuron_id[indices_channels], save_to_file=None,\n",
    "                                     verbose=False, max_itd=max_itd)\n",
    "                _mu = dict_c[kk]['mu'] \n",
    "                _corr = ((_itds - _mu) / dict_c[kk]['std']) * (dict_c[24]['std'] / 10) \n",
    "                _ii.extend(_corr)\n",
    "                _ii_only_mu.extend(_itds - _mu)\n",
    "                _ii_no_corr.extend(_itds)\n",
    "                if kk in r_ch:\n",
    "                    _ii_no_corr_lim.extend(_itds)\n",
    "            except Exception as e:\n",
    "                print e\n",
    "    itd_streams.append(_ii)\n",
    "    itd_streams_only_mu.append(_ii_only_mu)\n",
    "    itd_streams_no_corr.append(_ii_no_corr)\n",
    "    itd_streams_no_corr_lim.append(_ii_no_corr_lim)"
   ]
  },
  {
   "cell_type": "code",
   "execution_count": null,
   "metadata": {},
   "outputs": [],
   "source": [
    "_ = plt.hist(itd_streams_only_mu[0], 100)"
   ]
  },
  {
   "cell_type": "code",
   "execution_count": null,
   "metadata": {},
   "outputs": [],
   "source": [
    "f, ax = plt.subplots(3,3, figsize=(20,10))\n",
    "for i in range(3):\n",
    "    ax[i][0].hist(itd_streams[i], normed=True)\n",
    "    ax[i][0].set_xlim([-max_itd, max_itd])\n",
    "    ax[i][1].hist(itd_streams_no_corr[i], normed=True)\n",
    "    ax[i][1].set_xlim([-max_itd, max_itd])\n",
    "    ax[i][2].hist(itd_streams_only_mu[i], normed=True)\n",
    "    ax[i][2].set_xlim([-max_itd, max_itd])\n",
    "\n",
    "plt.tight_layout()"
   ]
  },
  {
   "cell_type": "code",
   "execution_count": null,
   "metadata": {},
   "outputs": [],
   "source": [
    "priors = prob.get_priors(np.array(itd_streams_only_mu))\n",
    "plt.plot(priors.T)"
   ]
  },
  {
   "cell_type": "code",
   "execution_count": null,
   "metadata": {},
   "outputs": [],
   "source": [
    "_ = plt.hist(itd_streams[0])"
   ]
  },
  {
   "cell_type": "code",
   "execution_count": null,
   "metadata": {},
   "outputs": [],
   "source": [
    "# create some normal random noisy data\n",
    "IDX = 18\n",
    "ser = np.array(itd_streams[IDX]) * 1e6\n",
    "\n",
    "# plot normed histogram\n",
    "a = plt.hist(ser, 80, normed=True)\n",
    "\n",
    "# find minimum and maximum of xticks, so we know\n",
    "# where we should compute theoretical distribution\n",
    "xt = plt.xticks()[0]  \n",
    "xmin, xmax = min(xt), max(xt)  \n",
    "lnspc = np.linspace(xmin, xmax, len(ser))\n",
    "\n",
    "priors = prob.get_priors(np.array([itd_streams[IDX]]))\n",
    "\n",
    "lnspc2 = np.linspace(xmin, xmax, len(priors[0]))\n",
    "\n",
    "# plt.plot(lnspc2, priors[0])\n",
    "\n",
    "\n",
    "# guess what :) \n",
    "ab,bb,cb,db = stats.beta.fit(ser)  \n",
    "pdf_beta = stats.beta.pdf(lnspc, ab, bb,cb, db)  \n",
    "plt.plot(lnspc, pdf_beta, label=\"Beta\")\n",
    "\n",
    "plt.legend()"
   ]
  },
  {
   "cell_type": "code",
   "execution_count": null,
   "metadata": {},
   "outputs": [],
   "source": [
    "fig = plt.figure(figsize=(20,15))\n",
    "x = np.linspace(-max_itd * 1e6, max_itd * 1e6, 80)\n",
    "ax = fig.add_subplot(3,1,1)\n",
    "priors = prob.get_priors(np.array(itd_streams_only_mu))\n",
    "color_idx = np.linspace(0, 1, 19)\n",
    "for i, l, j in zip(color_idx, range(0, 190, 10), priors): \n",
    "    c = plt.cm.brg(i)\n",
    "    ax.plot(x, j, '--' if l == 80 else '-', label=l, linewidth=4 if l == 80 else 2, color=c)\n",
    "    \n",
    "ax.grid()\n",
    "ax.legend(loc='upper center', bbox_to_anchor=(0.5, 1.05),\n",
    "          ncol=10, fancybox=True)\n",
    "ax.set_xlabel('ITDs (us)')\n",
    "ax.set_ylabel('Probability')\n",
    "# ax.set_title([i for i in np.arange(0, 64) if i in dict_c])\n",
    "\n",
    "ax = fig.add_subplot(3,1,2)\n",
    "priors = prob.get_priors(np.array(itd_streams_no_corr))\n",
    "for i, l, j in zip(color_idx, range(0, 190, 10), priors): \n",
    "    c = plt.cm.brg(i)\n",
    "    ax.plot(x, j, '--' if l == 80 else '-', label=l,linewidth=4 if l == 80 else 2, color=c)\n",
    "ax.grid()\n",
    "# ax.legend()\n",
    "ax.set_xlabel('ITDs (us)')\n",
    "ax.set_ylabel('Probability')\n",
    "# ax.set_title([i for i in np.arange(0, 64) if i in dict_c])\n",
    "\n",
    "ax = fig.add_subplot(3,1,3)\n",
    "priors = prob.get_priors(np.array(itd_streams_no_corr_lim))\n",
    "for i, l, j in zip(color_idx, range(0, 190, 10), priors): \n",
    "    c = plt.cm.brg(i)\n",
    "    ax.plot(x, j, '--' if l == 80 else '-', label=l, linewidth=4 if l == 80 else 2, color=c)\n",
    "ax.grid()\n",
    "# ax.legend()\n",
    "ax.set_xlabel('ITDs (us)')\n",
    "ax.set_ylabel('Probability')\n",
    "# ax.set_title(\"[19]\")\n",
    "\n",
    "plt.tight_layout()\n",
    "plt.savefig(imgs_folder + 'comparison_priors.pdf', transparent=True)"
   ]
  },
  {
   "cell_type": "code",
   "execution_count": null,
   "metadata": {},
   "outputs": [],
   "source": [
    "print \"I can use more spikes with the correction\"\n",
    "print sum([len(i) for i in itd_streams])\n",
    "print sum([len(i) for i in itd_streams_no_corr])\n",
    "print sum([len(i) for i in itd_streams_no_corr_lim])\n",
    "print sum([len(i) for i in itd_streams]) / sum([len(i) for i in itd_streams_no_corr_lim])"
   ]
  },
  {
   "cell_type": "code",
   "execution_count": null,
   "metadata": {},
   "outputs": [],
   "source": [
    "plt.figure(figsize=(12,12))\n",
    "priors = prob.get_priors(np.array(itd_streams))\n",
    "for l, j in zip(range(0, 190, 10), priors): \n",
    "    plt.plot(j, label=l)\n",
    "plt.legend()\n",
    "plt.title([i for i in np.arange(0, 65) if i in dict_c])"
   ]
  },
  {
   "cell_type": "code",
   "execution_count": null,
   "metadata": {},
   "outputs": [],
   "source": [
    "np.save('priors_long_hv_mf_corrected_all', priors)\n",
    "import pickle as pkl\n",
    "pkl.dump(dict_c, open('correction_dict_mf.pkl', 'w'))"
   ]
  },
  {
   "cell_type": "code",
   "execution_count": null,
   "metadata": {},
   "outputs": [],
   "source": [
    "np.save('priors_long_hv_corrected_10_30', priors)"
   ]
  },
  {
   "cell_type": "code",
   "execution_count": null,
   "metadata": {},
   "outputs": [],
   "source": [
    "priors = np.load('priors_long_hv_corrected_all.npy')\n",
    "plt.figure(figsize=(12,12))\n",
    "for l, j in zip(range(0, 190, 10), priors): \n",
    "    plt.plot(j, label=l)\n",
    "plt.legend()"
   ]
  },
  {
   "cell_type": "code",
   "execution_count": 7,
   "metadata": {},
   "outputs": [],
   "source": [
    "def remove_trigger(timestamps, addresses):\n",
    "    dx = 0.000001\n",
    "    idx =  np.argmax(np.diff(timestamps)/dx)\n",
    "    return timestamps[idx + 1:], addresses[idx + 1:]"
   ]
  },
  {
   "cell_type": "code",
   "execution_count": 8,
   "metadata": {},
   "outputs": [
    {
     "name": "stdout",
     "output_type": "stream",
     "text": [
      "(19, 80)\n"
     ]
    },
    {
     "data": {
      "image/png": "[encoded data removed]",
      "text/plain": [
       "<matplotlib.figure.Figure at 0x7f47d656f590>"
      ]
     },
     "metadata": {},
     "output_type": "display_data"
    }
   ],
   "source": [
    "priors = np.load('priors_long_hv_corrected_all.npy')\n",
    "dict_c = pkl.load(open('correction_dict.pkl', 'r'))\n",
    "itd_dict = itd.get_itd_dict(max_itd, num_bins)*1e6\n",
    "_ = plt.plot(priors.T)\n",
    "print priors.shape"
   ]
  },
  {
   "cell_type": "code",
   "execution_count": 9,
   "metadata": {},
   "outputs": [],
   "source": [
    "with open(basedir + 'log_train.txt') as t:\n",
    "    all_angles = [x for x in t.readlines()]"
   ]
  },
  {
   "cell_type": "code",
   "execution_count": 10,
   "metadata": {},
   "outputs": [
    {
     "name": "stdout",
     "output_type": "stream",
     "text": [
      "KD8098968FC0\n",
      "KD8098968FC0 120.000000 60.000000 \r\n",
      "\n",
      "12\n",
      "6\n"
     ]
    }
   ],
   "source": [
    "all_train = []\n",
    "gts1 = []\n",
    "gts2 = []\n",
    "with open('train_set.txt') as t:\n",
    "    all_train = [line.split(' ')[4].strip() for line in t.readlines()]\n",
    "with open('train_set.txt') as t:\n",
    "    gts1 = [line.split(' ')[0].strip() for line in t.readlines()]\n",
    "with open('train_set.txt') as t:\n",
    "    gts2 = [line.split(' ')[1].strip() for line in t.readlines()]\n",
    "\n",
    "IDX = 2020\n",
    "print all_train[IDX]\n",
    "print all_angles[IDX]\n",
    "timestamps, addresses = es.loadaerdat(basedir + 'aedat/train/' + all_train[IDX] + '.aedat')\n",
    "timestamps, addresses = remove_trigger(timestamps, addresses)\n",
    "\n",
    "timestamps, channel_id, ear_id, neuron_id, filterbank_id = es.decode_ams1c(timestamps, addresses, return_type=False)\n",
    "\n",
    "# load wav\n",
    "spk1, spk2, _ = re.compile('[0-9]+').split(all_train[IDX])\n",
    "_, utt1, utt2 = re.compile('[A-Z]+').split(all_train[IDX])\n",
    "pos1, pos2 = int(float(all_angles[IDX].split(' ')[1]) // 10) , int(float(all_angles[IDX].split(' ')[2]) // 10)\n",
    "print pos1\n",
    "print pos2\n",
    "fs, w1 = wavfile.read(basedir + 'wavs/train/' + gts1[IDX].replace('\\\\', '/') + '.wav')\n",
    "fs, w2 = wavfile.read(basedir + 'wavs/train/' + gts2[IDX].replace('\\\\', '/') + '.wav')"
   ]
  },
  {
   "cell_type": "code",
   "execution_count": null,
   "metadata": {
    "scrolled": false
   },
   "outputs": [],
   "source": [
    "from collections import OrderedDict\n",
    "import itertools\n",
    "idx_dict = {}\n",
    "_aa = {}\n",
    "for kk in np.arange(0,64):\n",
    "    indices_channels = np.isin(channel_id, np.array([kk]))\n",
    "    print \"CH {} LEN {}\".format(kk, len(timestamps[indices_channels]))\n",
    "    print timestamps[indices_channels]\n",
    "    print ear_id[indices_channels]\n",
    "    print neuron_id[indices_channels]\n",
    "    try:\n",
    "        if kk in dict_c:\n",
    "\n",
    "                _itds, _itd_idx = itd.get_itds(timestamps[indices_channels], ear_id[indices_channels], neuron_id[indices_channels], save_to_file=None,\n",
    "                                     verbose=False, max_itd=max_itd)\n",
    "                idx_dict[kk] = _itd_idx\n",
    "                _mu = dict_c[kk]['mu']\n",
    "                _corr = (_itds - _mu)  # / dict_c[kk]['std'] * dict_c[19]['std']\n",
    "                _aa[kk] = _corr\n",
    "\n",
    "        else:\n",
    "            _itds, _itd_idx = itd.get_itds(timestamps[indices_channels], ear_id[indices_channels], neuron_id[indices_channels], save_to_file=None,\n",
    "                                     verbose=False, max_itd=max_itd)\n",
    "            idx_dict[kk] = _itd_idx\n",
    "            _aa[kk] = _itds\n",
    "    except Exception as e:\n",
    "        \n",
    "            print \"*\" * 10 + \"EXCEPTION UP\" + \"*\" * 10\n",
    "    print \"=\" * 30"
   ]
  },
  {
   "cell_type": "code",
   "execution_count": null,
   "metadata": {},
   "outputs": [],
   "source": [
    "K = []\n",
    "for k, _a in _aa.iteritems():\n",
    "    K.extend(_a)\n",
    "\n",
    "base = plt.hist(K)"
   ]
  },
  {
   "cell_type": "code",
   "execution_count": null,
   "metadata": {},
   "outputs": [],
   "source": [
    "sigma = 20\n",
    "index_angles = np.vstack([np.arange(19), np.arange(0, 190, 10)]).T\n",
    "\n",
    "num_angles = len(priors)\n",
    "initial_estimate = np.ones(num_angles) / num_angles # all angles are a priori equally likely\n",
    "transition_probabilities = prob.get_transition_probabilities(index_angles, sigma=sigma) # gaussian a priori probability of itds given a certain position\n",
    "itd_dict = itd.get_itd_dict(max_itd, num_bins) # array holding the mean values of all itd bins\n",
    "arg = {}\n",
    "for k, _a in _aa.iteritems():\n",
    "    estimates, argmax_estimates = prob.estimate(_a, initial_estimate, transition_probabilities, itd_dict, priors)\n",
    "    arg[k] = argmax_estimates\n",
    "\n",
    "argmax_estimates = []\n",
    "for k, v in arg.iteritems():\n",
    "    argmax_estimates.extend(v)\n",
    "argmax_estimates = np.array(argmax_estimates)"
   ]
  },
  {
   "cell_type": "code",
   "execution_count": null,
   "metadata": {},
   "outputs": [],
   "source": [
    "print len(K)\n",
    "print len(argmax_estimates)"
   ]
  },
  {
   "cell_type": "code",
   "execution_count": null,
   "metadata": {},
   "outputs": [],
   "source": [
    "base2 = plt.hist(argmax_estimates)"
   ]
  },
  {
   "cell_type": "code",
   "execution_count": null,
   "metadata": {},
   "outputs": [],
   "source": [
    "def wind_sp(ts, ch, w=0.001):\n",
    "    ts_int = (ts // w).astype('int32')\n",
    "\n",
    "    A = np.zeros((np.max(ts_int) + 1, max(list(set(ch))) + 1))\n",
    "\n",
    "    for _t, _c in zip(ts_int, ch):\n",
    "        A[_t, _c] += 1\n",
    "    \n",
    "#     A = np.minimum(A, np.ones_like(A))\n",
    "    # returning [ch, T]\n",
    "    return A.T\n",
    "\n",
    "def exp_feat(A, win=0.05, tpe='lap', l=300):\n",
    "    if tpe == 'exp':\n",
    "        t = np.arange(0, win, 0.001)\n",
    "        b = np.exp(-l * t)\n",
    "    elif tpe == 'lap':\n",
    "        t = np.arange(-win, win, 0.001)\n",
    "        b = np.exp(-l * np.abs(t))\n",
    "        \n",
    "    b /= np.linalg.norm(b)\n",
    "    AA = np.array([np.convolve(_a, b, 'same') for _a in A])\n",
    "    return AA\n",
    "\n",
    "def smear_fr(A, win=3, l=10):\n",
    "#     t = np.arange(-win, win, 1)\n",
    "#     b = np.exp(-l * np.abs(t))\n",
    "    b = np.concatenate([np.arange(win), np.arange(win)[::-1]])\n",
    "    A = np.array([np.convolve(_a, b, 'same') for _a in A.T])\n",
    "    return A.T\n",
    "\n",
    "def simple_low_pass(X, win=25, shift=10):\n",
    "    n_win = (X.shape[0] - win) // shift\n",
    "    XX = np.zeros((n_win, X.shape[1]))\n",
    "    for i in range(0, n_win):\n",
    "        XX[i] = np.sum(X[i * shift: (i + 1) * shift] , 0) / win\n",
    "    return XX"
   ]
  },
  {
   "cell_type": "code",
   "execution_count": null,
   "metadata": {},
   "outputs": [],
   "source": [
    "T = []\n",
    "C = []\n",
    "for p in [pos1, pos2]:\n",
    "    T1 = []\n",
    "    C1 = []\n",
    "    for ch in idx_dict.keys():\n",
    "        t = (timestamps[channel_id == ch])[idx_dict[ch][arg[ch] == p]]\n",
    "        T1.extend(t)\n",
    "        C1.extend(np.ones_like(t) * ch)\n",
    "    T.append(T1)\n",
    "    C.append(C1)"
   ]
  },
  {
   "cell_type": "code",
   "execution_count": null,
   "metadata": {},
   "outputs": [],
   "source": [
    "fig = plt.figure(figsize=(10,10))\n",
    "\n",
    "for T1, C1, k, w in zip(T, C, range(2), [w1, w2]):\n",
    "    A = wind_sp(np.array(T1), np.array(C1).astype('int32'))\n",
    "    AA = exp_feat(A, win=0.3, l=100, tpe='lap')\n",
    "    AAA = smear_fr(AA, win=3)\n",
    "    AAAA = simple_low_pass(AAA.T).T\n",
    "\n",
    "    \n",
    "    ax = fig.add_subplot(2, 2, k*2 + 1)\n",
    "    ax.imshow(np.log(AAAA + 1e-9)[:, :400], aspect='auto')\n",
    "    \n",
    "    ax = fig.add_subplot(2, 2, k*2+2)\n",
    "    Y = logfbank(w, fs, nfft=1024)\n",
    "    ax.imshow(Y.T[:, :200], aspect='auto')"
   ]
  },
  {
   "cell_type": "code",
   "execution_count": null,
   "metadata": {},
   "outputs": [],
   "source": [
    "\n",
    "A = np.arange(0, 200, 10)\n",
    "a = plt.hist(argmax_estimates, 19, normed=True)\n",
    "\n",
    "gmm = GaussianMixture(2, n_init=20)\n",
    "gmm.fit(argmax_estimates.reshape(-1,1))\n",
    "\n",
    "g1 = norm.pdf(a[1], gmm.means_[0], gmm.covariances_[0][0])\n",
    "g2 = norm.pdf(a[1], gmm.means_[1], gmm.covariances_[1][0])\n",
    "# g3 = norm.pdf(a[1], gmm.means_[2], gmm.covariances_[2][0])\n",
    "plt.plot(a[1], g1)\n",
    "plt.plot(a[1], g2)\n",
    "# plt.plot(a[1], g3)\n",
    "\n",
    "print A[np.argmax(g1)]\n",
    "# print gmm.weights_\n",
    "print A[np.argmax(g2)]\n",
    "# print A[np.argmax(g3)]\n",
    "\n",
    "# fig = plt.figure(figsize=(12,6))\n",
    "\n",
    "\n",
    "# for i, pos in enumerate([np.argmax(g1), np.argmax(g2)]):\n",
    "#     ax = fig.add_subplot(1,2,i + 1)\n",
    "#     for ch in idx_dict.keys():\n",
    "# #         d = np.where(np.array(idx_dict.keys()) == ch)[0][0]\n",
    "#         t = (timestamps[channel_id == ch])[idx_dict[ch][arg[ch] == pos]]\n",
    "#         ax.plot(t, np.ones_like(t) * ch,  '*')\n",
    "\n",
    "print pos1\n",
    "print pos2"
   ]
  },
  {
   "cell_type": "code",
   "execution_count": null,
   "metadata": {},
   "outputs": [],
   "source": [
    "results = gammamix.gammamix_em(\n",
    "                np.array(argmax_estimates+1),\n",
    "                #initial guess at the mixing proportion\n",
    "                mix_prop=np.array([0.5, 0.5]),\n",
    "                verb=True)"
   ]
  },
  {
   "cell_type": "code",
   "execution_count": null,
   "metadata": {},
   "outputs": [],
   "source": [
    "a = plt.hist(argmax_estimates, 19, normed=True)\n",
    "\n",
    "pdf_gamma = stats.gamma.pdf(np.arange(20)+1, results[0].alpha[0], results[0].invbeta[0], results[0].mix_prop[0])\n",
    "plt.plot(np.arange(20), pdf_gamma, label=\"Gamma\")\n",
    "print np.argmax(pdf_gamma)\n",
    "\n",
    "pdf_gamma = stats.gamma.pdf(np.arange(20)+1, results[0].alpha[1], results[0].invbeta[1], results[0].mix_prop[1])\n",
    "plt.plot(np.arange(20), pdf_gamma, label=\"Gamma\")\n",
    "\n",
    "print np.argmax(pdf_gamma)"
   ]
  },
  {
   "cell_type": "code",
   "execution_count": null,
   "metadata": {},
   "outputs": [],
   "source": []
  }
 ],
 "metadata": {
  "kernelspec": {
   "display_name": "Python 2",
   "language": "python",
   "name": "python2"
  },
  "language_info": {
   "codemirror_mode": {
    "name": "ipython",
    "version": 2
   },
   "file_extension": ".py",
   "mimetype": "text/x-python",
   "name": "python",
   "nbconvert_exporter": "python",
   "pygments_lexer": "ipython2",
   "version": "2.7.11"
  }
 },
 "nbformat": 4,
 "nbformat_minor": 2
}
