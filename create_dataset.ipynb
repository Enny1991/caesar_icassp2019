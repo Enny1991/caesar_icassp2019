{
 "cells": [
  {
   "cell_type": "code",
   "execution_count": 1,
   "metadata": {},
   "outputs": [],
   "source": [
    "import numpy as np\n",
    "import os\n",
    "from collections import OrderedDict\n",
    "from scipy.io import wavfile"
   ]
  },
  {
   "cell_type": "code",
   "execution_count": 2,
   "metadata": {},
   "outputs": [],
   "source": [
    "basedir = '/Volumes/Elements/TIDIGITS/'\n",
    "mtr = 'CD1/TIDIGITS/TRAIN/MAN/'\n",
    "ftr = 'CD1/TIDIGITS/TRAIN/WOMAN/'\n",
    "mte = 'CD2/TIDIGITS/TEST/MAN/'\n",
    "fte = 'CD2/TIDIGITS/TEST/WOMAN/'\n",
    "\n",
    "old_separator = '/'\n",
    "new_separator = '\\\\'\n",
    "\n",
    "D = {'train': {'m': {}, 'f': {}}, 'test': {'m': {}, 'f': {}}}\n",
    "for path, task, gender in zip([mtr, ftr, mte, fte], ['train', 'train', 'test', 'test'], ['m', 'f', 'm', 'f']):\n",
    "    _list = [i for i in os.listdir(basedir + path)if len(i) == 2]\n",
    "    for spk in _list:\n",
    "        _wavs = [i for i in os.listdir(basedir + path + spk + '/') if \"WAV\" in i]\n",
    "        D[task][gender][spk] = [path + spk + '/' + i for i in _wavs]\n",
    "\n",
    "to_digit = {'O': 0,'0': 0, '1': 1, '2': 2, '3': 3, '4': 4, '5': 5, '6': 6, '7': 7, '8': 8, '9': 9, 'Z': 0}"
   ]
  },
  {
   "cell_type": "code",
   "execution_count": 3,
   "metadata": {},
   "outputs": [],
   "source": [
    "n_samples = 6000\n",
    "with open('train_set.txt', 'w') as wavs:\n",
    "    for i in range(n_samples):\n",
    "        rnd_gnd1 = np.random.choice(['m', 'f'])\n",
    "        rnd_spk1 = np.random.choice(D['train'][rnd_gnd1].keys())\n",
    "        rnd_wav1 = np.random.choice(D['train'][rnd_gnd1][rnd_spk1])\n",
    "        \n",
    "        rnd_gnd2 = np.random.choice(['m', 'f'])\n",
    "        rnd_spk2 = np.random.choice(D['train'][rnd_gnd2].keys())\n",
    "        rnd_wav2 = np.random.choice(D['train'][rnd_gnd2][rnd_spk2])\n",
    "        \n",
    "        ann1 = \"\".join([str(to_digit[i]) for i in rnd_wav1.split('/')[-1][:-5]])\n",
    "        ann2 = \"\".join([str(to_digit[i]) for i in rnd_wav2.split('/')[-1][:-5]])\n",
    "        nn = rnd_spk1 + ann1 + rnd_spk2 + ann2\n",
    "        wavs.write(rnd_wav1.replace(old_separator, new_separator) + ' ' + rnd_wav2.replace(old_separator, new_separator) + ' ' + ann1 + ' ' + ann2 + ' ' + nn +'\\n')\n",
    "        \n",
    "        \n",
    "    "
   ]
  },
  {
   "cell_type": "code",
   "execution_count": 4,
   "metadata": {},
   "outputs": [],
   "source": [
    "n_samples = 2000\n",
    "with open('test_set.txt', 'w') as wavs:\n",
    "    for i in range(n_samples):\n",
    "        rnd_gnd1 = np.random.choice(['m', 'f'])\n",
    "        rnd_spk1 = np.random.choice(D['test'][rnd_gnd1].keys())\n",
    "        rnd_wav1 = np.random.choice(D['test'][rnd_gnd1][rnd_spk1])\n",
    "        \n",
    "        rnd_gnd2 = np.random.choice(['m', 'f'])\n",
    "        rnd_spk2 = np.random.choice(D['test'][rnd_gnd2].keys())\n",
    "        rnd_wav2 = np.random.choice(D['test'][rnd_gnd2][rnd_spk2])\n",
    "        \n",
    "        ann1 = \"\".join([str(to_digit[i]) for i in rnd_wav1.split('/')[-1][:-5]])\n",
    "        ann2 = \"\".join([str(to_digit[i]) for i in rnd_wav2.split('/')[-1][:-5]])\n",
    "        \n",
    "        nn = rnd_spk1 + ann1 + rnd_spk2 + ann2\n",
    "        \n",
    "        wavs.write(rnd_wav1.replace(old_separator, new_separator) + ' ' + rnd_wav2.replace(old_separator, new_separator) + ' ' + ann1 + ' ' + ann2 + ' ' + nn + '\\n')\n",
    "        "
   ]
  },
  {
   "cell_type": "code",
   "execution_count": null,
   "metadata": {},
   "outputs": [],
   "source": []
  }
 ],
 "metadata": {
  "kernelspec": {
   "display_name": "Python 2",
   "language": "python",
   "name": "python2"
  },
  "language_info": {
   "codemirror_mode": {
    "name": "ipython",
    "version": 2
   },
   "file_extension": ".py",
   "mimetype": "text/x-python",
   "name": "python",
   "nbconvert_exporter": "python",
   "pygments_lexer": "ipython2",
   "version": "2.7.14"
  }
 },
 "nbformat": 4,
 "nbformat_minor": 2
}
